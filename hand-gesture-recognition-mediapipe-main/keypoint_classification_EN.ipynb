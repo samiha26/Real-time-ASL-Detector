{
 "cells": [
  {
   "cell_type": "code",
   "execution_count": 1,
   "metadata": {
    "id": "igMyGnjE9hEp"
   },
   "outputs": [],
   "source": [
    "import csv\n",
    "\n",
    "import numpy as np\n",
    "import tensorflow as tf\n",
    "from sklearn.model_selection import train_test_split\n",
    "\n",
    "RANDOM_SEED = 42"
   ]
  },
  {
   "cell_type": "markdown",
   "metadata": {
    "id": "t2HDvhIu9hEr"
   },
   "source": [
    "# Specify each path"
   ]
  },
  {
   "cell_type": "code",
   "execution_count": 2,
   "metadata": {
    "id": "9NvZP2Zn9hEy"
   },
   "outputs": [],
   "source": [
    "dataset = 'model/keypoint_classifier/keypoint.csv'\n",
    "model_save_path = 'model/keypoint_classifier/keypoint_classifier.hdf5'\n",
    "tflite_save_path = 'model/keypoint_classifier/keypoint_classifier.tflite'"
   ]
  },
  {
   "cell_type": "markdown",
   "metadata": {
    "id": "s5oMH7x19hEz"
   },
   "source": [
    "# Set number of classes"
   ]
  },
  {
   "cell_type": "code",
   "execution_count": 3,
   "metadata": {
    "id": "du4kodXL9hEz"
   },
   "outputs": [],
   "source": [
    "NUM_CLASSES = 19"
   ]
  },
  {
   "cell_type": "markdown",
   "metadata": {
    "id": "XjnL0uso9hEz"
   },
   "source": [
    "# Dataset reading"
   ]
  },
  {
   "cell_type": "code",
   "execution_count": 4,
   "metadata": {
    "id": "QT5ZqtEz9hE0"
   },
   "outputs": [],
   "source": [
    "X_dataset = np.loadtxt(dataset, delimiter=',', dtype='float32', usecols=list(range(1, (21 * 2) + 1)))"
   ]
  },
  {
   "cell_type": "code",
   "execution_count": 5,
   "metadata": {
    "id": "QmoKFsp49hE0"
   },
   "outputs": [],
   "source": [
    "y_dataset = np.loadtxt(dataset, delimiter=',', dtype='int32', usecols=(0))"
   ]
  },
  {
   "cell_type": "code",
   "execution_count": 6,
   "metadata": {
    "id": "xQU7JTZ_9hE0"
   },
   "outputs": [],
   "source": [
    "X_train, X_test, y_train, y_test = train_test_split(X_dataset, y_dataset, train_size=0.75, random_state=RANDOM_SEED)"
   ]
  },
  {
   "cell_type": "markdown",
   "metadata": {
    "id": "mxK_lETT9hE0"
   },
   "source": [
    "# Model building"
   ]
  },
  {
   "cell_type": "code",
   "execution_count": 7,
   "metadata": {
    "id": "vHBmUf1t9hE1"
   },
   "outputs": [],
   "source": [
    "model = tf.keras.models.Sequential([\n",
    "    tf.keras.layers.Input((21 * 2, )),\n",
    "    tf.keras.layers.Dropout(0.2),\n",
    "    tf.keras.layers.Dense(20, activation='relu'),\n",
    "    tf.keras.layers.Dropout(0.4),\n",
    "    tf.keras.layers.Dense(10, activation='relu'),\n",
    "    tf.keras.layers.Dense(NUM_CLASSES, activation='softmax')\n",
    "])"
   ]
  },
  {
   "cell_type": "code",
   "execution_count": 8,
   "metadata": {
    "colab": {
     "base_uri": "https://localhost:8080/"
    },
    "id": "ypqky9tc9hE1",
    "outputId": "5db082bb-30e3-4110-bf63-a1ee777ecd46"
   },
   "outputs": [
    {
     "name": "stdout",
     "output_type": "stream",
     "text": [
      "Model: \"sequential\"\n",
      "_________________________________________________________________\n",
      " Layer (type)                Output Shape              Param #   \n",
      "=================================================================\n",
      " dropout (Dropout)           (None, 42)                0         \n",
      "                                                                 \n",
      " dense (Dense)               (None, 20)                860       \n",
      "                                                                 \n",
      " dropout_1 (Dropout)         (None, 20)                0         \n",
      "                                                                 \n",
      " dense_1 (Dense)             (None, 10)                210       \n",
      "                                                                 \n",
      " dense_2 (Dense)             (None, 19)                209       \n",
      "                                                                 \n",
      "=================================================================\n",
      "Total params: 1279 (5.00 KB)\n",
      "Trainable params: 1279 (5.00 KB)\n",
      "Non-trainable params: 0 (0.00 Byte)\n",
      "_________________________________________________________________\n"
     ]
    }
   ],
   "source": [
    "model.summary()  # tf.keras.utils.plot_model(model, show_shapes=True)"
   ]
  },
  {
   "cell_type": "code",
   "execution_count": 9,
   "metadata": {
    "id": "MbMjOflQ9hE1"
   },
   "outputs": [],
   "source": [
    "# Model checkpoint callback\n",
    "cp_callback = tf.keras.callbacks.ModelCheckpoint(\n",
    "    model_save_path, verbose=1, save_weights_only=False)\n",
    "# Callback for early stopping\n",
    "es_callback = tf.keras.callbacks.EarlyStopping(patience=20, verbose=1)"
   ]
  },
  {
   "cell_type": "code",
   "execution_count": 10,
   "metadata": {
    "id": "c3Dac0M_9hE2"
   },
   "outputs": [],
   "source": [
    "# Model compilation\n",
    "model.compile(\n",
    "    optimizer='adam',\n",
    "    loss='sparse_categorical_crossentropy',\n",
    "    metrics=['accuracy']\n",
    ")"
   ]
  },
  {
   "cell_type": "markdown",
   "metadata": {
    "id": "7XI0j1Iu9hE2"
   },
   "source": [
    "# Model training"
   ]
  },
  {
   "cell_type": "code",
   "execution_count": 11,
   "metadata": {
    "colab": {
     "base_uri": "https://localhost:8080/"
    },
    "id": "WirBl-JE9hE3",
    "outputId": "71b30ca2-8294-4d9d-8aa2-800d90d399de",
    "scrolled": true
   },
   "outputs": [
    {
     "name": "stdout",
     "output_type": "stream",
     "text": [
      "Epoch 1/1000\n"
     ]
    },
    {
     "name": "stdout",
     "output_type": "stream",
     "text": [
      "33/43 [======================>.......] - ETA: 0s - loss: 2.9437 - accuracy: 0.0682\n",
      "Epoch 1: saving model to model/keypoint_classifier\\keypoint_classifier.hdf5\n",
      "43/43 [==============================] - 2s 13ms/step - loss: 2.9361 - accuracy: 0.0734 - val_loss: 2.8793 - val_accuracy: 0.1070\n",
      "Epoch 2/1000\n",
      "33/43 [======================>.......] - ETA: 0s - loss: 2.8714 - accuracy: 0.0928"
     ]
    },
    {
     "name": "stderr",
     "output_type": "stream",
     "text": [
      "c:\\Users\\user\\AppData\\Local\\Programs\\Python\\Python310\\lib\\site-packages\\keras\\src\\engine\\training.py:3079: UserWarning: You are saving your model as an HDF5 file via `model.save()`. This file format is considered legacy. We recommend using instead the native Keras format, e.g. `model.save('my_model.keras')`.\n",
      "  saving_api.save_model(\n"
     ]
    },
    {
     "name": "stdout",
     "output_type": "stream",
     "text": [
      "\n",
      "Epoch 2: saving model to model/keypoint_classifier\\keypoint_classifier.hdf5\n",
      "43/43 [==============================] - 0s 6ms/step - loss: 2.8631 - accuracy: 0.0954 - val_loss: 2.8023 - val_accuracy: 0.1220\n",
      "Epoch 3/1000\n",
      "39/43 [==========================>...] - ETA: 0s - loss: 2.7787 - accuracy: 0.1424\n",
      "Epoch 3: saving model to model/keypoint_classifier\\keypoint_classifier.hdf5\n",
      "43/43 [==============================] - 0s 5ms/step - loss: 2.7710 - accuracy: 0.1472 - val_loss: 2.6857 - val_accuracy: 0.2518\n",
      "Epoch 4/1000\n",
      "34/43 [======================>.......] - ETA: 0s - loss: 2.6753 - accuracy: 0.1926\n",
      "Epoch 4: saving model to model/keypoint_classifier\\keypoint_classifier.hdf5\n",
      "43/43 [==============================] - 0s 6ms/step - loss: 2.6643 - accuracy: 0.2001 - val_loss: 2.5308 - val_accuracy: 0.3500\n",
      "Epoch 5/1000\n",
      "36/43 [========================>.....] - ETA: 0s - loss: 2.5255 - accuracy: 0.2550\n",
      "Epoch 5: saving model to model/keypoint_classifier\\keypoint_classifier.hdf5\n",
      "43/43 [==============================] - 0s 6ms/step - loss: 2.5195 - accuracy: 0.2569 - val_loss: 2.3367 - val_accuracy: 0.3649\n",
      "Epoch 6/1000\n",
      "39/43 [==========================>...] - ETA: 0s - loss: 2.3559 - accuracy: 0.2794\n",
      "Epoch 6: saving model to model/keypoint_classifier\\keypoint_classifier.hdf5\n",
      "43/43 [==============================] - 0s 5ms/step - loss: 2.3556 - accuracy: 0.2780 - val_loss: 2.1360 - val_accuracy: 0.3788\n",
      "Epoch 7/1000\n",
      "33/43 [======================>.......] - ETA: 0s - loss: 2.2538 - accuracy: 0.2874\n",
      "Epoch 7: saving model to model/keypoint_classifier\\keypoint_classifier.hdf5\n",
      "43/43 [==============================] - 0s 6ms/step - loss: 2.2338 - accuracy: 0.2937 - val_loss: 1.9749 - val_accuracy: 0.4437\n",
      "Epoch 8/1000\n",
      "34/43 [======================>.......] - ETA: 0s - loss: 2.1400 - accuracy: 0.3097\n",
      "Epoch 8: saving model to model/keypoint_classifier\\keypoint_classifier.hdf5\n",
      "43/43 [==============================] - 0s 6ms/step - loss: 2.1230 - accuracy: 0.3137 - val_loss: 1.8587 - val_accuracy: 0.4520\n",
      "Epoch 9/1000\n",
      "38/43 [=========================>....] - ETA: 0s - loss: 2.0488 - accuracy: 0.3275\n",
      "Epoch 9: saving model to model/keypoint_classifier\\keypoint_classifier.hdf5\n",
      "43/43 [==============================] - 0s 5ms/step - loss: 2.0523 - accuracy: 0.3241 - val_loss: 1.7695 - val_accuracy: 0.5003\n",
      "Epoch 10/1000\n",
      "39/43 [==========================>...] - ETA: 0s - loss: 1.9805 - accuracy: 0.3377\n",
      "Epoch 10: saving model to model/keypoint_classifier\\keypoint_classifier.hdf5\n",
      "43/43 [==============================] - 0s 5ms/step - loss: 1.9759 - accuracy: 0.3391 - val_loss: 1.6833 - val_accuracy: 0.5524\n",
      "Epoch 11/1000\n",
      "39/43 [==========================>...] - ETA: 0s - loss: 1.9255 - accuracy: 0.3506\n",
      "Epoch 11: saving model to model/keypoint_classifier\\keypoint_classifier.hdf5\n",
      "43/43 [==============================] - 0s 5ms/step - loss: 1.9239 - accuracy: 0.3504 - val_loss: 1.6232 - val_accuracy: 0.5502\n",
      "Epoch 12/1000\n",
      "33/43 [======================>.......] - ETA: 0s - loss: 1.8904 - accuracy: 0.3608\n",
      "Epoch 12: saving model to model/keypoint_classifier\\keypoint_classifier.hdf5\n",
      "43/43 [==============================] - 0s 6ms/step - loss: 1.8796 - accuracy: 0.3655 - val_loss: 1.5653 - val_accuracy: 0.5663\n",
      "Epoch 13/1000\n",
      "33/43 [======================>.......] - ETA: 0s - loss: 1.8521 - accuracy: 0.3707\n",
      "Epoch 13: saving model to model/keypoint_classifier\\keypoint_classifier.hdf5\n",
      "43/43 [==============================] - 0s 6ms/step - loss: 1.8458 - accuracy: 0.3748 - val_loss: 1.5142 - val_accuracy: 0.5896\n",
      "Epoch 14/1000\n",
      "36/43 [========================>.....] - ETA: 0s - loss: 1.8041 - accuracy: 0.3793\n",
      "Epoch 14: saving model to model/keypoint_classifier\\keypoint_classifier.hdf5\n",
      "43/43 [==============================] - 0s 5ms/step - loss: 1.8064 - accuracy: 0.3809 - val_loss: 1.4701 - val_accuracy: 0.5940\n",
      "Epoch 15/1000\n",
      "36/43 [========================>.....] - ETA: 0s - loss: 1.8126 - accuracy: 0.3861\n",
      "Epoch 15: saving model to model/keypoint_classifier\\keypoint_classifier.hdf5\n",
      "43/43 [==============================] - 0s 5ms/step - loss: 1.8083 - accuracy: 0.3859 - val_loss: 1.4461 - val_accuracy: 0.6029\n",
      "Epoch 16/1000\n",
      "38/43 [=========================>....] - ETA: 0s - loss: 1.7687 - accuracy: 0.3851\n",
      "Epoch 16: saving model to model/keypoint_classifier\\keypoint_classifier.hdf5\n",
      "43/43 [==============================] - 0s 5ms/step - loss: 1.7739 - accuracy: 0.3838 - val_loss: 1.4032 - val_accuracy: 0.5918\n",
      "Epoch 17/1000\n",
      "42/43 [============================>.] - ETA: 0s - loss: 1.7391 - accuracy: 0.4012\n",
      "Epoch 17: saving model to model/keypoint_classifier\\keypoint_classifier.hdf5\n",
      "43/43 [==============================] - 0s 5ms/step - loss: 1.7394 - accuracy: 0.4007 - val_loss: 1.3642 - val_accuracy: 0.6473\n",
      "Epoch 18/1000\n",
      "39/43 [==========================>...] - ETA: 0s - loss: 1.7167 - accuracy: 0.4052\n",
      "Epoch 18: saving model to model/keypoint_classifier\\keypoint_classifier.hdf5\n",
      "43/43 [==============================] - 0s 5ms/step - loss: 1.7240 - accuracy: 0.4034 - val_loss: 1.3471 - val_accuracy: 0.6240\n",
      "Epoch 19/1000\n",
      "39/43 [==========================>...] - ETA: 0s - loss: 1.6966 - accuracy: 0.4161\n",
      "Epoch 19: saving model to model/keypoint_classifier\\keypoint_classifier.hdf5\n",
      "43/43 [==============================] - 0s 5ms/step - loss: 1.6992 - accuracy: 0.4136 - val_loss: 1.3163 - val_accuracy: 0.6201\n",
      "Epoch 20/1000\n",
      "37/43 [========================>.....] - ETA: 0s - loss: 1.6838 - accuracy: 0.4170\n",
      "Epoch 20: saving model to model/keypoint_classifier\\keypoint_classifier.hdf5\n",
      "43/43 [==============================] - 0s 6ms/step - loss: 1.6803 - accuracy: 0.4173 - val_loss: 1.2954 - val_accuracy: 0.6722\n",
      "Epoch 21/1000\n",
      "34/43 [======================>.......] - ETA: 0s - loss: 1.6984 - accuracy: 0.4173\n",
      "Epoch 21: saving model to model/keypoint_classifier\\keypoint_classifier.hdf5\n",
      "43/43 [==============================] - 0s 6ms/step - loss: 1.6852 - accuracy: 0.4203 - val_loss: 1.2789 - val_accuracy: 0.6755\n",
      "Epoch 22/1000\n",
      "42/43 [============================>.] - ETA: 0s - loss: 1.6528 - accuracy: 0.4243\n",
      "Epoch 22: saving model to model/keypoint_classifier\\keypoint_classifier.hdf5\n",
      "43/43 [==============================] - 0s 5ms/step - loss: 1.6511 - accuracy: 0.4249 - val_loss: 1.2470 - val_accuracy: 0.6650\n",
      "Epoch 23/1000\n",
      "39/43 [==========================>...] - ETA: 0s - loss: 1.6091 - accuracy: 0.4503\n",
      "Epoch 23: saving model to model/keypoint_classifier\\keypoint_classifier.hdf5\n",
      "43/43 [==============================] - 0s 6ms/step - loss: 1.6106 - accuracy: 0.4469 - val_loss: 1.2176 - val_accuracy: 0.6412\n",
      "Epoch 24/1000\n",
      "40/43 [==========================>...] - ETA: 0s - loss: 1.6246 - accuracy: 0.4422\n",
      "Epoch 24: saving model to model/keypoint_classifier\\keypoint_classifier.hdf5\n",
      "43/43 [==============================] - 0s 5ms/step - loss: 1.6271 - accuracy: 0.4406 - val_loss: 1.1994 - val_accuracy: 0.7049\n",
      "Epoch 25/1000\n",
      "33/43 [======================>.......] - ETA: 0s - loss: 1.6146 - accuracy: 0.4486\n",
      "Epoch 25: saving model to model/keypoint_classifier\\keypoint_classifier.hdf5\n",
      "43/43 [==============================] - 0s 6ms/step - loss: 1.6193 - accuracy: 0.4441 - val_loss: 1.1998 - val_accuracy: 0.7255\n",
      "Epoch 26/1000\n",
      "35/43 [=======================>......] - ETA: 0s - loss: 1.5987 - accuracy: 0.4473\n",
      "Epoch 26: saving model to model/keypoint_classifier\\keypoint_classifier.hdf5\n",
      "43/43 [==============================] - 0s 6ms/step - loss: 1.5919 - accuracy: 0.4493 - val_loss: 1.1751 - val_accuracy: 0.6722\n",
      "Epoch 27/1000\n",
      "35/43 [=======================>......] - ETA: 0s - loss: 1.6050 - accuracy: 0.4467\n",
      "Epoch 27: saving model to model/keypoint_classifier\\keypoint_classifier.hdf5\n",
      "43/43 [==============================] - 0s 5ms/step - loss: 1.6023 - accuracy: 0.4493 - val_loss: 1.1629 - val_accuracy: 0.7232\n",
      "Epoch 28/1000\n",
      "33/43 [======================>.......] - ETA: 0s - loss: 1.5584 - accuracy: 0.4631\n",
      "Epoch 28: saving model to model/keypoint_classifier\\keypoint_classifier.hdf5\n",
      "43/43 [==============================] - 0s 6ms/step - loss: 1.5653 - accuracy: 0.4600 - val_loss: 1.1389 - val_accuracy: 0.7366\n",
      "Epoch 29/1000\n",
      "34/43 [======================>.......] - ETA: 0s - loss: 1.5706 - accuracy: 0.4540\n",
      "Epoch 29: saving model to model/keypoint_classifier\\keypoint_classifier.hdf5\n",
      "43/43 [==============================] - 0s 6ms/step - loss: 1.5612 - accuracy: 0.4582 - val_loss: 1.1230 - val_accuracy: 0.7415\n",
      "Epoch 30/1000\n",
      "34/43 [======================>.......] - ETA: 0s - loss: 1.5473 - accuracy: 0.4690\n",
      "Epoch 30: saving model to model/keypoint_classifier\\keypoint_classifier.hdf5\n",
      "43/43 [==============================] - 0s 6ms/step - loss: 1.5426 - accuracy: 0.4684 - val_loss: 1.1119 - val_accuracy: 0.7105\n",
      "Epoch 31/1000\n",
      "40/43 [==========================>...] - ETA: 0s - loss: 1.5334 - accuracy: 0.4604\n",
      "Epoch 31: saving model to model/keypoint_classifier\\keypoint_classifier.hdf5\n",
      "43/43 [==============================] - 0s 5ms/step - loss: 1.5277 - accuracy: 0.4630 - val_loss: 1.0904 - val_accuracy: 0.7648\n",
      "Epoch 32/1000\n",
      "38/43 [=========================>....] - ETA: 0s - loss: 1.5220 - accuracy: 0.4716\n",
      "Epoch 32: saving model to model/keypoint_classifier\\keypoint_classifier.hdf5\n",
      "43/43 [==============================] - 0s 6ms/step - loss: 1.5193 - accuracy: 0.4758 - val_loss: 1.0825 - val_accuracy: 0.7610\n",
      "Epoch 33/1000\n",
      "33/43 [======================>.......] - ETA: 0s - loss: 1.5338 - accuracy: 0.4690\n",
      "Epoch 33: saving model to model/keypoint_classifier\\keypoint_classifier.hdf5\n",
      "43/43 [==============================] - 0s 6ms/step - loss: 1.5300 - accuracy: 0.4695 - val_loss: 1.0637 - val_accuracy: 0.7793\n",
      "Epoch 34/1000\n",
      "41/43 [===========================>..] - ETA: 0s - loss: 1.5109 - accuracy: 0.4821\n",
      "Epoch 34: saving model to model/keypoint_classifier\\keypoint_classifier.hdf5\n",
      "43/43 [==============================] - 0s 5ms/step - loss: 1.5093 - accuracy: 0.4839 - val_loss: 1.0697 - val_accuracy: 0.7726\n",
      "Epoch 35/1000\n",
      "35/43 [=======================>......] - ETA: 0s - loss: 1.5225 - accuracy: 0.4734\n",
      "Epoch 35: saving model to model/keypoint_classifier\\keypoint_classifier.hdf5\n",
      "43/43 [==============================] - 0s 5ms/step - loss: 1.5119 - accuracy: 0.4752 - val_loss: 1.0582 - val_accuracy: 0.7526\n",
      "Epoch 36/1000\n",
      "40/43 [==========================>...] - ETA: 0s - loss: 1.4862 - accuracy: 0.4826\n",
      "Epoch 36: saving model to model/keypoint_classifier\\keypoint_classifier.hdf5\n",
      "43/43 [==============================] - 0s 5ms/step - loss: 1.4875 - accuracy: 0.4826 - val_loss: 1.0454 - val_accuracy: 0.7582\n",
      "Epoch 37/1000\n",
      "40/43 [==========================>...] - ETA: 0s - loss: 1.4827 - accuracy: 0.4803\n",
      "Epoch 37: saving model to model/keypoint_classifier\\keypoint_classifier.hdf5\n",
      "43/43 [==============================] - 0s 5ms/step - loss: 1.4916 - accuracy: 0.4782 - val_loss: 1.0311 - val_accuracy: 0.7676\n",
      "Epoch 38/1000\n",
      "37/43 [========================>.....] - ETA: 0s - loss: 1.4734 - accuracy: 0.4848\n",
      "Epoch 38: saving model to model/keypoint_classifier\\keypoint_classifier.hdf5\n",
      "43/43 [==============================] - 0s 6ms/step - loss: 1.4677 - accuracy: 0.4885 - val_loss: 1.0204 - val_accuracy: 0.8114\n",
      "Epoch 39/1000\n",
      "38/43 [=========================>....] - ETA: 0s - loss: 1.4850 - accuracy: 0.4858\n",
      "Epoch 39: saving model to model/keypoint_classifier\\keypoint_classifier.hdf5\n",
      "43/43 [==============================] - 0s 5ms/step - loss: 1.4739 - accuracy: 0.4896 - val_loss: 1.0111 - val_accuracy: 0.7499\n",
      "Epoch 40/1000\n",
      "37/43 [========================>.....] - ETA: 0s - loss: 1.4599 - accuracy: 0.4920\n",
      "Epoch 40: saving model to model/keypoint_classifier\\keypoint_classifier.hdf5\n",
      "43/43 [==============================] - 0s 6ms/step - loss: 1.4612 - accuracy: 0.4915 - val_loss: 1.0029 - val_accuracy: 0.7809\n",
      "Epoch 41/1000\n",
      "33/43 [======================>.......] - ETA: 0s - loss: 1.4736 - accuracy: 0.4839\n",
      "Epoch 41: saving model to model/keypoint_classifier\\keypoint_classifier.hdf5\n",
      "43/43 [==============================] - 0s 6ms/step - loss: 1.4813 - accuracy: 0.4817 - val_loss: 0.9995 - val_accuracy: 0.7676\n",
      "Epoch 42/1000\n",
      "34/43 [======================>.......] - ETA: 0s - loss: 1.4475 - accuracy: 0.5005\n",
      "Epoch 42: saving model to model/keypoint_classifier\\keypoint_classifier.hdf5\n",
      "43/43 [==============================] - 0s 6ms/step - loss: 1.4482 - accuracy: 0.5000 - val_loss: 0.9930 - val_accuracy: 0.8048\n",
      "Epoch 43/1000\n",
      "32/43 [=====================>........] - ETA: 0s - loss: 1.4405 - accuracy: 0.4983\n",
      "Epoch 43: saving model to model/keypoint_classifier\\keypoint_classifier.hdf5\n",
      "43/43 [==============================] - 0s 6ms/step - loss: 1.4516 - accuracy: 0.4965 - val_loss: 0.9754 - val_accuracy: 0.8142\n",
      "Epoch 44/1000\n",
      "36/43 [========================>.....] - ETA: 0s - loss: 1.4520 - accuracy: 0.5048\n",
      "Epoch 44: saving model to model/keypoint_classifier\\keypoint_classifier.hdf5\n",
      "43/43 [==============================] - 0s 6ms/step - loss: 1.4346 - accuracy: 0.5105 - val_loss: 0.9774 - val_accuracy: 0.8081\n",
      "Epoch 45/1000\n",
      "38/43 [=========================>....] - ETA: 0s - loss: 1.4534 - accuracy: 0.4887\n",
      "Epoch 45: saving model to model/keypoint_classifier\\keypoint_classifier.hdf5\n",
      "43/43 [==============================] - 0s 5ms/step - loss: 1.4525 - accuracy: 0.4891 - val_loss: 0.9625 - val_accuracy: 0.8064\n",
      "Epoch 46/1000\n",
      "36/43 [========================>.....] - ETA: 0s - loss: 1.4281 - accuracy: 0.5067\n",
      "Epoch 46: saving model to model/keypoint_classifier\\keypoint_classifier.hdf5\n",
      "43/43 [==============================] - 0s 7ms/step - loss: 1.4349 - accuracy: 0.5031 - val_loss: 0.9663 - val_accuracy: 0.8064\n",
      "Epoch 47/1000\n",
      "40/43 [==========================>...] - ETA: 0s - loss: 1.4374 - accuracy: 0.4936\n",
      "Epoch 47: saving model to model/keypoint_classifier\\keypoint_classifier.hdf5\n",
      "43/43 [==============================] - 0s 5ms/step - loss: 1.4382 - accuracy: 0.4941 - val_loss: 0.9548 - val_accuracy: 0.8081\n",
      "Epoch 48/1000\n",
      "38/43 [=========================>....] - ETA: 0s - loss: 1.4282 - accuracy: 0.5090\n",
      "Epoch 48: saving model to model/keypoint_classifier\\keypoint_classifier.hdf5\n",
      "43/43 [==============================] - 0s 5ms/step - loss: 1.4223 - accuracy: 0.5096 - val_loss: 0.9429 - val_accuracy: 0.7804\n",
      "Epoch 49/1000\n",
      "40/43 [==========================>...] - ETA: 0s - loss: 1.4347 - accuracy: 0.5012\n",
      "Epoch 49: saving model to model/keypoint_classifier\\keypoint_classifier.hdf5\n",
      "43/43 [==============================] - 0s 5ms/step - loss: 1.4366 - accuracy: 0.5015 - val_loss: 0.9393 - val_accuracy: 0.8070\n",
      "Epoch 50/1000\n",
      "41/43 [===========================>..] - ETA: 0s - loss: 1.4480 - accuracy: 0.4956\n",
      "Epoch 50: saving model to model/keypoint_classifier\\keypoint_classifier.hdf5\n",
      "43/43 [==============================] - 0s 5ms/step - loss: 1.4455 - accuracy: 0.4959 - val_loss: 0.9470 - val_accuracy: 0.8081\n",
      "Epoch 51/1000\n",
      "35/43 [=======================>......] - ETA: 0s - loss: 1.4252 - accuracy: 0.5056\n",
      "Epoch 51: saving model to model/keypoint_classifier\\keypoint_classifier.hdf5\n",
      "43/43 [==============================] - 0s 6ms/step - loss: 1.4142 - accuracy: 0.5078 - val_loss: 0.9280 - val_accuracy: 0.7898\n",
      "Epoch 52/1000\n",
      "35/43 [=======================>......] - ETA: 0s - loss: 1.3842 - accuracy: 0.5237\n",
      "Epoch 52: saving model to model/keypoint_classifier\\keypoint_classifier.hdf5\n",
      "43/43 [==============================] - 0s 6ms/step - loss: 1.3807 - accuracy: 0.5246 - val_loss: 0.9146 - val_accuracy: 0.8353\n",
      "Epoch 53/1000\n",
      "37/43 [========================>.....] - ETA: 0s - loss: 1.4102 - accuracy: 0.5021\n",
      "Epoch 53: saving model to model/keypoint_classifier\\keypoint_classifier.hdf5\n",
      "43/43 [==============================] - 0s 5ms/step - loss: 1.4069 - accuracy: 0.5061 - val_loss: 0.9200 - val_accuracy: 0.8070\n",
      "Epoch 54/1000\n",
      "41/43 [===========================>..] - ETA: 0s - loss: 1.3980 - accuracy: 0.5090\n",
      "Epoch 54: saving model to model/keypoint_classifier\\keypoint_classifier.hdf5\n",
      "43/43 [==============================] - 0s 5ms/step - loss: 1.4036 - accuracy: 0.5068 - val_loss: 0.9020 - val_accuracy: 0.8364\n",
      "Epoch 55/1000\n",
      "38/43 [=========================>....] - ETA: 0s - loss: 1.3769 - accuracy: 0.5245\n",
      "Epoch 55: saving model to model/keypoint_classifier\\keypoint_classifier.hdf5\n",
      "43/43 [==============================] - 0s 5ms/step - loss: 1.3747 - accuracy: 0.5263 - val_loss: 0.8919 - val_accuracy: 0.8253\n",
      "Epoch 56/1000\n",
      "34/43 [======================>.......] - ETA: 0s - loss: 1.3955 - accuracy: 0.5138\n",
      "Epoch 56: saving model to model/keypoint_classifier\\keypoint_classifier.hdf5\n",
      "43/43 [==============================] - 0s 6ms/step - loss: 1.3908 - accuracy: 0.5142 - val_loss: 0.8952 - val_accuracy: 0.7998\n",
      "Epoch 57/1000\n",
      "30/43 [===================>..........] - ETA: 0s - loss: 1.3945 - accuracy: 0.5148\n",
      "Epoch 57: saving model to model/keypoint_classifier\\keypoint_classifier.hdf5\n",
      "43/43 [==============================] - 0s 6ms/step - loss: 1.3904 - accuracy: 0.5159 - val_loss: 0.8947 - val_accuracy: 0.8364\n",
      "Epoch 58/1000\n",
      "38/43 [=========================>....] - ETA: 0s - loss: 1.3808 - accuracy: 0.5183\n",
      "Epoch 58: saving model to model/keypoint_classifier\\keypoint_classifier.hdf5\n",
      "43/43 [==============================] - 0s 5ms/step - loss: 1.3774 - accuracy: 0.5189 - val_loss: 0.8811 - val_accuracy: 0.8114\n",
      "Epoch 59/1000\n",
      "35/43 [=======================>......] - ETA: 0s - loss: 1.3678 - accuracy: 0.5192\n",
      "Epoch 59: saving model to model/keypoint_classifier\\keypoint_classifier.hdf5\n",
      "43/43 [==============================] - 0s 5ms/step - loss: 1.3835 - accuracy: 0.5126 - val_loss: 0.8801 - val_accuracy: 0.8070\n",
      "Epoch 60/1000\n",
      "37/43 [========================>.....] - ETA: 0s - loss: 1.3847 - accuracy: 0.5135\n",
      "Epoch 60: saving model to model/keypoint_classifier\\keypoint_classifier.hdf5\n",
      "43/43 [==============================] - 0s 5ms/step - loss: 1.3825 - accuracy: 0.5172 - val_loss: 0.8749 - val_accuracy: 0.8225\n",
      "Epoch 61/1000\n",
      "40/43 [==========================>...] - ETA: 0s - loss: 1.3671 - accuracy: 0.5156\n",
      "Epoch 61: saving model to model/keypoint_classifier\\keypoint_classifier.hdf5\n",
      "43/43 [==============================] - 0s 5ms/step - loss: 1.3678 - accuracy: 0.5165 - val_loss: 0.8795 - val_accuracy: 0.8264\n",
      "Epoch 62/1000\n",
      "37/43 [========================>.....] - ETA: 0s - loss: 1.3356 - accuracy: 0.5361\n",
      "Epoch 62: saving model to model/keypoint_classifier\\keypoint_classifier.hdf5\n",
      "43/43 [==============================] - 0s 5ms/step - loss: 1.3453 - accuracy: 0.5331 - val_loss: 0.8554 - val_accuracy: 0.8087\n",
      "Epoch 63/1000\n",
      "39/43 [==========================>...] - ETA: 0s - loss: 1.3662 - accuracy: 0.5238\n",
      "Epoch 63: saving model to model/keypoint_classifier\\keypoint_classifier.hdf5\n",
      "43/43 [==============================] - 0s 5ms/step - loss: 1.3669 - accuracy: 0.5224 - val_loss: 0.8518 - val_accuracy: 0.8153\n",
      "Epoch 64/1000\n",
      "40/43 [==========================>...] - ETA: 0s - loss: 1.3615 - accuracy: 0.5229\n",
      "Epoch 64: saving model to model/keypoint_classifier\\keypoint_classifier.hdf5\n",
      "43/43 [==============================] - 0s 5ms/step - loss: 1.3559 - accuracy: 0.5240 - val_loss: 0.8554 - val_accuracy: 0.8658\n",
      "Epoch 65/1000\n",
      "40/43 [==========================>...] - ETA: 0s - loss: 1.3554 - accuracy: 0.5270\n",
      "Epoch 65: saving model to model/keypoint_classifier\\keypoint_classifier.hdf5\n",
      "43/43 [==============================] - 0s 6ms/step - loss: 1.3511 - accuracy: 0.5300 - val_loss: 0.8475 - val_accuracy: 0.8336\n",
      "Epoch 66/1000\n",
      "41/43 [===========================>..] - ETA: 0s - loss: 1.3570 - accuracy: 0.5276\n",
      "Epoch 66: saving model to model/keypoint_classifier\\keypoint_classifier.hdf5\n",
      "43/43 [==============================] - 0s 5ms/step - loss: 1.3588 - accuracy: 0.5277 - val_loss: 0.8561 - val_accuracy: 0.8364\n",
      "Epoch 67/1000\n",
      "34/43 [======================>.......] - ETA: 0s - loss: 1.3565 - accuracy: 0.5246\n",
      "Epoch 67: saving model to model/keypoint_classifier\\keypoint_classifier.hdf5\n",
      "43/43 [==============================] - 0s 6ms/step - loss: 1.3525 - accuracy: 0.5283 - val_loss: 0.8426 - val_accuracy: 0.8270\n",
      "Epoch 68/1000\n",
      "34/43 [======================>.......] - ETA: 0s - loss: 1.3458 - accuracy: 0.5310\n",
      "Epoch 68: saving model to model/keypoint_classifier\\keypoint_classifier.hdf5\n",
      "43/43 [==============================] - 0s 6ms/step - loss: 1.3436 - accuracy: 0.5305 - val_loss: 0.8302 - val_accuracy: 0.8497\n",
      "Epoch 69/1000\n",
      "33/43 [======================>.......] - ETA: 0s - loss: 1.3483 - accuracy: 0.5357\n",
      "Epoch 69: saving model to model/keypoint_classifier\\keypoint_classifier.hdf5\n",
      "43/43 [==============================] - 0s 6ms/step - loss: 1.3529 - accuracy: 0.5316 - val_loss: 0.8361 - val_accuracy: 0.8564\n",
      "Epoch 70/1000\n",
      "38/43 [=========================>....] - ETA: 0s - loss: 1.3268 - accuracy: 0.5372\n",
      "Epoch 70: saving model to model/keypoint_classifier\\keypoint_classifier.hdf5\n",
      "43/43 [==============================] - 0s 6ms/step - loss: 1.3235 - accuracy: 0.5403 - val_loss: 0.8289 - val_accuracy: 0.8497\n",
      "Epoch 71/1000\n",
      "32/43 [=====================>........] - ETA: 0s - loss: 1.3307 - accuracy: 0.5386\n",
      "Epoch 71: saving model to model/keypoint_classifier\\keypoint_classifier.hdf5\n",
      "43/43 [==============================] - 0s 6ms/step - loss: 1.3293 - accuracy: 0.5396 - val_loss: 0.8199 - val_accuracy: 0.8114\n",
      "Epoch 72/1000\n",
      "41/43 [===========================>..] - ETA: 0s - loss: 1.3238 - accuracy: 0.5413\n",
      "Epoch 72: saving model to model/keypoint_classifier\\keypoint_classifier.hdf5\n",
      "43/43 [==============================] - 0s 5ms/step - loss: 1.3262 - accuracy: 0.5394 - val_loss: 0.8274 - val_accuracy: 0.8453\n",
      "Epoch 73/1000\n",
      "37/43 [========================>.....] - ETA: 0s - loss: 1.3452 - accuracy: 0.5359\n",
      "Epoch 73: saving model to model/keypoint_classifier\\keypoint_classifier.hdf5\n",
      "43/43 [==============================] - 0s 6ms/step - loss: 1.3372 - accuracy: 0.5370 - val_loss: 0.8241 - val_accuracy: 0.7926\n",
      "Epoch 74/1000\n",
      "36/43 [========================>.....] - ETA: 0s - loss: 1.3398 - accuracy: 0.5289\n",
      "Epoch 74: saving model to model/keypoint_classifier\\keypoint_classifier.hdf5\n",
      "43/43 [==============================] - 0s 6ms/step - loss: 1.3366 - accuracy: 0.5283 - val_loss: 0.8190 - val_accuracy: 0.8314\n",
      "Epoch 75/1000\n",
      "36/43 [========================>.....] - ETA: 0s - loss: 1.3128 - accuracy: 0.5386\n",
      "Epoch 75: saving model to model/keypoint_classifier\\keypoint_classifier.hdf5\n",
      "43/43 [==============================] - 0s 5ms/step - loss: 1.3148 - accuracy: 0.5361 - val_loss: 0.8139 - val_accuracy: 0.8059\n",
      "Epoch 76/1000\n",
      "38/43 [=========================>....] - ETA: 0s - loss: 1.2927 - accuracy: 0.5475\n",
      "Epoch 76: saving model to model/keypoint_classifier\\keypoint_classifier.hdf5\n",
      "43/43 [==============================] - 0s 5ms/step - loss: 1.3010 - accuracy: 0.5446 - val_loss: 0.8018 - val_accuracy: 0.8558\n",
      "Epoch 77/1000\n",
      "38/43 [=========================>....] - ETA: 0s - loss: 1.2974 - accuracy: 0.5510\n",
      "Epoch 77: saving model to model/keypoint_classifier\\keypoint_classifier.hdf5\n",
      "43/43 [==============================] - 0s 5ms/step - loss: 1.2978 - accuracy: 0.5505 - val_loss: 0.7930 - val_accuracy: 0.8619\n",
      "Epoch 78/1000\n",
      "39/43 [==========================>...] - ETA: 0s - loss: 1.2812 - accuracy: 0.5495\n",
      "Epoch 78: saving model to model/keypoint_classifier\\keypoint_classifier.hdf5\n",
      "43/43 [==============================] - 0s 5ms/step - loss: 1.2849 - accuracy: 0.5481 - val_loss: 0.8008 - val_accuracy: 0.8281\n",
      "Epoch 79/1000\n",
      "37/43 [========================>.....] - ETA: 0s - loss: 1.3087 - accuracy: 0.5408\n",
      "Epoch 79: saving model to model/keypoint_classifier\\keypoint_classifier.hdf5\n",
      "43/43 [==============================] - 0s 5ms/step - loss: 1.3093 - accuracy: 0.5407 - val_loss: 0.7928 - val_accuracy: 0.8608\n",
      "Epoch 80/1000\n",
      "41/43 [===========================>..] - ETA: 0s - loss: 1.3021 - accuracy: 0.5442\n",
      "Epoch 80: saving model to model/keypoint_classifier\\keypoint_classifier.hdf5\n",
      "43/43 [==============================] - 0s 5ms/step - loss: 1.2992 - accuracy: 0.5455 - val_loss: 0.7892 - val_accuracy: 0.8441\n",
      "Epoch 81/1000\n",
      "35/43 [=======================>......] - ETA: 0s - loss: 1.2825 - accuracy: 0.5482\n",
      "Epoch 81: saving model to model/keypoint_classifier\\keypoint_classifier.hdf5\n",
      "43/43 [==============================] - 0s 5ms/step - loss: 1.2876 - accuracy: 0.5442 - val_loss: 0.7870 - val_accuracy: 0.8564\n",
      "Epoch 82/1000\n",
      "38/43 [=========================>....] - ETA: 0s - loss: 1.2883 - accuracy: 0.5510\n",
      "Epoch 82: saving model to model/keypoint_classifier\\keypoint_classifier.hdf5\n",
      "43/43 [==============================] - 0s 5ms/step - loss: 1.2855 - accuracy: 0.5490 - val_loss: 0.7915 - val_accuracy: 0.8741\n",
      "Epoch 83/1000\n",
      "36/43 [========================>.....] - ETA: 0s - loss: 1.2925 - accuracy: 0.5458\n",
      "Epoch 83: saving model to model/keypoint_classifier\\keypoint_classifier.hdf5\n",
      "43/43 [==============================] - 0s 6ms/step - loss: 1.3022 - accuracy: 0.5444 - val_loss: 0.7910 - val_accuracy: 0.8608\n",
      "Epoch 84/1000\n",
      "40/43 [==========================>...] - ETA: 0s - loss: 1.2806 - accuracy: 0.5475\n",
      "Epoch 84: saving model to model/keypoint_classifier\\keypoint_classifier.hdf5\n",
      "43/43 [==============================] - 0s 5ms/step - loss: 1.2791 - accuracy: 0.5488 - val_loss: 0.7837 - val_accuracy: 0.8569\n",
      "Epoch 85/1000\n",
      "33/43 [======================>.......] - ETA: 0s - loss: 1.2725 - accuracy: 0.5573\n",
      "Epoch 85: saving model to model/keypoint_classifier\\keypoint_classifier.hdf5\n",
      "43/43 [==============================] - 0s 5ms/step - loss: 1.2765 - accuracy: 0.5511 - val_loss: 0.7743 - val_accuracy: 0.8680\n",
      "Epoch 86/1000\n",
      "38/43 [=========================>....] - ETA: 0s - loss: 1.2748 - accuracy: 0.5504\n",
      "Epoch 86: saving model to model/keypoint_classifier\\keypoint_classifier.hdf5\n",
      "43/43 [==============================] - 0s 5ms/step - loss: 1.2762 - accuracy: 0.5496 - val_loss: 0.7587 - val_accuracy: 0.8719\n",
      "Epoch 87/1000\n",
      "40/43 [==========================>...] - ETA: 0s - loss: 1.2670 - accuracy: 0.5549\n",
      "Epoch 87: saving model to model/keypoint_classifier\\keypoint_classifier.hdf5\n",
      "43/43 [==============================] - 0s 5ms/step - loss: 1.2635 - accuracy: 0.5572 - val_loss: 0.7613 - val_accuracy: 0.8785\n",
      "Epoch 88/1000\n",
      "41/43 [===========================>..] - ETA: 0s - loss: 1.2629 - accuracy: 0.5564\n",
      "Epoch 88: saving model to model/keypoint_classifier\\keypoint_classifier.hdf5\n",
      "43/43 [==============================] - 0s 5ms/step - loss: 1.2693 - accuracy: 0.5540 - val_loss: 0.7663 - val_accuracy: 0.8819\n",
      "Epoch 89/1000\n",
      "36/43 [========================>.....] - ETA: 0s - loss: 1.2477 - accuracy: 0.5621\n",
      "Epoch 89: saving model to model/keypoint_classifier\\keypoint_classifier.hdf5\n",
      "43/43 [==============================] - 0s 5ms/step - loss: 1.2551 - accuracy: 0.5605 - val_loss: 0.7562 - val_accuracy: 0.8674\n",
      "Epoch 90/1000\n",
      "40/43 [==========================>...] - ETA: 0s - loss: 1.2550 - accuracy: 0.5566\n",
      "Epoch 90: saving model to model/keypoint_classifier\\keypoint_classifier.hdf5\n",
      "43/43 [==============================] - 0s 5ms/step - loss: 1.2580 - accuracy: 0.5553 - val_loss: 0.7657 - val_accuracy: 0.8597\n",
      "Epoch 91/1000\n",
      "38/43 [=========================>....] - ETA: 0s - loss: 1.2459 - accuracy: 0.5578\n",
      "Epoch 91: saving model to model/keypoint_classifier\\keypoint_classifier.hdf5\n",
      "43/43 [==============================] - 0s 6ms/step - loss: 1.2388 - accuracy: 0.5596 - val_loss: 0.7407 - val_accuracy: 0.8874\n",
      "Epoch 92/1000\n",
      "40/43 [==========================>...] - ETA: 0s - loss: 1.2253 - accuracy: 0.5691\n",
      "Epoch 92: saving model to model/keypoint_classifier\\keypoint_classifier.hdf5\n",
      "43/43 [==============================] - 0s 6ms/step - loss: 1.2301 - accuracy: 0.5683 - val_loss: 0.7459 - val_accuracy: 0.8841\n",
      "Epoch 93/1000\n",
      "37/43 [========================>.....] - ETA: 0s - loss: 1.2506 - accuracy: 0.5625\n",
      "Epoch 93: saving model to model/keypoint_classifier\\keypoint_classifier.hdf5\n",
      "43/43 [==============================] - 0s 5ms/step - loss: 1.2540 - accuracy: 0.5612 - val_loss: 0.7568 - val_accuracy: 0.8508\n",
      "Epoch 94/1000\n",
      "36/43 [========================>.....] - ETA: 0s - loss: 1.2259 - accuracy: 0.5712\n",
      "Epoch 94: saving model to model/keypoint_classifier\\keypoint_classifier.hdf5\n",
      "43/43 [==============================] - 0s 6ms/step - loss: 1.2331 - accuracy: 0.5666 - val_loss: 0.7424 - val_accuracy: 0.8957\n",
      "Epoch 95/1000\n",
      "40/43 [==========================>...] - ETA: 0s - loss: 1.2407 - accuracy: 0.5621\n",
      "Epoch 95: saving model to model/keypoint_classifier\\keypoint_classifier.hdf5\n",
      "43/43 [==============================] - 0s 5ms/step - loss: 1.2465 - accuracy: 0.5601 - val_loss: 0.7384 - val_accuracy: 0.8697\n",
      "Epoch 96/1000\n",
      "35/43 [=======================>......] - ETA: 0s - loss: 1.2214 - accuracy: 0.5750\n",
      "Epoch 96: saving model to model/keypoint_classifier\\keypoint_classifier.hdf5\n",
      "43/43 [==============================] - 0s 6ms/step - loss: 1.2341 - accuracy: 0.5734 - val_loss: 0.7286 - val_accuracy: 0.8747\n",
      "Epoch 97/1000\n",
      "39/43 [==========================>...] - ETA: 0s - loss: 1.2278 - accuracy: 0.5653\n",
      "Epoch 97: saving model to model/keypoint_classifier\\keypoint_classifier.hdf5\n",
      "43/43 [==============================] - 0s 5ms/step - loss: 1.2300 - accuracy: 0.5642 - val_loss: 0.7425 - val_accuracy: 0.8569\n",
      "Epoch 98/1000\n",
      "40/43 [==========================>...] - ETA: 0s - loss: 1.2432 - accuracy: 0.5621\n",
      "Epoch 98: saving model to model/keypoint_classifier\\keypoint_classifier.hdf5\n",
      "43/43 [==============================] - 0s 5ms/step - loss: 1.2417 - accuracy: 0.5625 - val_loss: 0.7462 - val_accuracy: 0.8641\n",
      "Epoch 99/1000\n",
      "35/43 [=======================>......] - ETA: 0s - loss: 1.2413 - accuracy: 0.5679\n",
      "Epoch 99: saving model to model/keypoint_classifier\\keypoint_classifier.hdf5\n",
      "43/43 [==============================] - 0s 6ms/step - loss: 1.2420 - accuracy: 0.5692 - val_loss: 0.7381 - val_accuracy: 0.8830\n",
      "Epoch 100/1000\n",
      "27/43 [=================>............] - ETA: 0s - loss: 1.2358 - accuracy: 0.5692\n",
      "Epoch 100: saving model to model/keypoint_classifier\\keypoint_classifier.hdf5\n",
      "43/43 [==============================] - 0s 6ms/step - loss: 1.2387 - accuracy: 0.5644 - val_loss: 0.7300 - val_accuracy: 0.8774\n",
      "Epoch 101/1000\n",
      "43/43 [==============================] - ETA: 0s - loss: 1.2225 - accuracy: 0.5742\n",
      "Epoch 101: saving model to model/keypoint_classifier\\keypoint_classifier.hdf5\n",
      "43/43 [==============================] - 0s 5ms/step - loss: 1.2225 - accuracy: 0.5742 - val_loss: 0.7306 - val_accuracy: 0.8525\n",
      "Epoch 102/1000\n",
      "36/43 [========================>.....] - ETA: 0s - loss: 1.2142 - accuracy: 0.5725\n",
      "Epoch 102: saving model to model/keypoint_classifier\\keypoint_classifier.hdf5\n",
      "43/43 [==============================] - 0s 5ms/step - loss: 1.2099 - accuracy: 0.5733 - val_loss: 0.7394 - val_accuracy: 0.8891\n",
      "Epoch 103/1000\n",
      "36/43 [========================>.....] - ETA: 0s - loss: 1.2013 - accuracy: 0.5803\n",
      "Epoch 103: saving model to model/keypoint_classifier\\keypoint_classifier.hdf5\n",
      "43/43 [==============================] - 0s 5ms/step - loss: 1.2025 - accuracy: 0.5792 - val_loss: 0.7092 - val_accuracy: 0.8835\n",
      "Epoch 104/1000\n",
      "39/43 [==========================>...] - ETA: 0s - loss: 1.2255 - accuracy: 0.5769\n",
      "Epoch 104: saving model to model/keypoint_classifier\\keypoint_classifier.hdf5\n",
      "43/43 [==============================] - 0s 5ms/step - loss: 1.2218 - accuracy: 0.5786 - val_loss: 0.7249 - val_accuracy: 0.8702\n",
      "Epoch 105/1000\n",
      "39/43 [==========================>...] - ETA: 0s - loss: 1.2238 - accuracy: 0.5697\n",
      "Epoch 105: saving model to model/keypoint_classifier\\keypoint_classifier.hdf5\n",
      "43/43 [==============================] - 0s 5ms/step - loss: 1.2211 - accuracy: 0.5721 - val_loss: 0.7118 - val_accuracy: 0.8991\n",
      "Epoch 106/1000\n",
      "39/43 [==========================>...] - ETA: 0s - loss: 1.2110 - accuracy: 0.5795\n",
      "Epoch 106: saving model to model/keypoint_classifier\\keypoint_classifier.hdf5\n",
      "43/43 [==============================] - 0s 5ms/step - loss: 1.2082 - accuracy: 0.5801 - val_loss: 0.7034 - val_accuracy: 0.8874\n",
      "Epoch 107/1000\n",
      "38/43 [=========================>....] - ETA: 0s - loss: 1.1951 - accuracy: 0.5785\n",
      "Epoch 107: saving model to model/keypoint_classifier\\keypoint_classifier.hdf5\n",
      "43/43 [==============================] - 0s 5ms/step - loss: 1.2002 - accuracy: 0.5764 - val_loss: 0.7174 - val_accuracy: 0.8863\n",
      "Epoch 108/1000\n",
      "41/43 [===========================>..] - ETA: 0s - loss: 1.1902 - accuracy: 0.5827\n",
      "Epoch 108: saving model to model/keypoint_classifier\\keypoint_classifier.hdf5\n",
      "43/43 [==============================] - 0s 6ms/step - loss: 1.1933 - accuracy: 0.5816 - val_loss: 0.6949 - val_accuracy: 0.9068\n",
      "Epoch 109/1000\n",
      "38/43 [=========================>....] - ETA: 0s - loss: 1.2279 - accuracy: 0.5685\n",
      "Epoch 109: saving model to model/keypoint_classifier\\keypoint_classifier.hdf5\n",
      "43/43 [==============================] - 0s 5ms/step - loss: 1.2287 - accuracy: 0.5677 - val_loss: 0.7301 - val_accuracy: 0.8663\n",
      "Epoch 110/1000\n",
      "39/43 [==========================>...] - ETA: 0s - loss: 1.2021 - accuracy: 0.5769\n",
      "Epoch 110: saving model to model/keypoint_classifier\\keypoint_classifier.hdf5\n",
      "43/43 [==============================] - 0s 5ms/step - loss: 1.2057 - accuracy: 0.5770 - val_loss: 0.7087 - val_accuracy: 0.8752\n",
      "Epoch 111/1000\n",
      "36/43 [========================>.....] - ETA: 0s - loss: 1.1856 - accuracy: 0.5807\n",
      "Epoch 111: saving model to model/keypoint_classifier\\keypoint_classifier.hdf5\n",
      "43/43 [==============================] - 0s 5ms/step - loss: 1.1941 - accuracy: 0.5745 - val_loss: 0.7178 - val_accuracy: 0.8641\n",
      "Epoch 112/1000\n",
      "40/43 [==========================>...] - ETA: 0s - loss: 1.2185 - accuracy: 0.5734\n",
      "Epoch 112: saving model to model/keypoint_classifier\\keypoint_classifier.hdf5\n",
      "43/43 [==============================] - 0s 5ms/step - loss: 1.2155 - accuracy: 0.5749 - val_loss: 0.7079 - val_accuracy: 0.8863\n",
      "Epoch 113/1000\n",
      "38/43 [=========================>....] - ETA: 0s - loss: 1.1813 - accuracy: 0.5861\n",
      "Epoch 113: saving model to model/keypoint_classifier\\keypoint_classifier.hdf5\n",
      "43/43 [==============================] - 0s 5ms/step - loss: 1.1876 - accuracy: 0.5825 - val_loss: 0.6917 - val_accuracy: 0.9057\n",
      "Epoch 114/1000\n",
      "40/43 [==========================>...] - ETA: 0s - loss: 1.1973 - accuracy: 0.5814\n",
      "Epoch 114: saving model to model/keypoint_classifier\\keypoint_classifier.hdf5\n",
      "43/43 [==============================] - 0s 5ms/step - loss: 1.1982 - accuracy: 0.5797 - val_loss: 0.7047 - val_accuracy: 0.8979\n",
      "Epoch 115/1000\n",
      "32/43 [=====================>........] - ETA: 0s - loss: 1.2044 - accuracy: 0.5886\n",
      "Epoch 115: saving model to model/keypoint_classifier\\keypoint_classifier.hdf5\n",
      "43/43 [==============================] - 0s 6ms/step - loss: 1.1982 - accuracy: 0.5886 - val_loss: 0.6993 - val_accuracy: 0.8686\n",
      "Epoch 116/1000\n",
      "41/43 [===========================>..] - ETA: 0s - loss: 1.1883 - accuracy: 0.5833\n",
      "Epoch 116: saving model to model/keypoint_classifier\\keypoint_classifier.hdf5\n",
      "43/43 [==============================] - 0s 5ms/step - loss: 1.1893 - accuracy: 0.5829 - val_loss: 0.7031 - val_accuracy: 0.8674\n",
      "Epoch 117/1000\n",
      "38/43 [=========================>....] - ETA: 0s - loss: 1.2001 - accuracy: 0.5711\n",
      "Epoch 117: saving model to model/keypoint_classifier\\keypoint_classifier.hdf5\n",
      "43/43 [==============================] - 0s 5ms/step - loss: 1.2008 - accuracy: 0.5712 - val_loss: 0.7119 - val_accuracy: 0.8802\n",
      "Epoch 118/1000\n",
      "39/43 [==========================>...] - ETA: 0s - loss: 1.1841 - accuracy: 0.5966\n",
      "Epoch 118: saving model to model/keypoint_classifier\\keypoint_classifier.hdf5\n",
      "43/43 [==============================] - 0s 5ms/step - loss: 1.1827 - accuracy: 0.5979 - val_loss: 0.7020 - val_accuracy: 0.8846\n",
      "Epoch 119/1000\n",
      "38/43 [=========================>....] - ETA: 0s - loss: 1.1907 - accuracy: 0.5882\n",
      "Epoch 119: saving model to model/keypoint_classifier\\keypoint_classifier.hdf5\n",
      "43/43 [==============================] - 0s 5ms/step - loss: 1.1875 - accuracy: 0.5864 - val_loss: 0.6852 - val_accuracy: 0.8763\n",
      "Epoch 120/1000\n",
      "38/43 [=========================>....] - ETA: 0s - loss: 1.1887 - accuracy: 0.5863\n",
      "Epoch 120: saving model to model/keypoint_classifier\\keypoint_classifier.hdf5\n",
      "43/43 [==============================] - 0s 5ms/step - loss: 1.1830 - accuracy: 0.5886 - val_loss: 0.6883 - val_accuracy: 0.8913\n",
      "Epoch 121/1000\n",
      "40/43 [==========================>...] - ETA: 0s - loss: 1.1883 - accuracy: 0.5857\n",
      "Epoch 121: saving model to model/keypoint_classifier\\keypoint_classifier.hdf5\n",
      "43/43 [==============================] - 0s 5ms/step - loss: 1.1881 - accuracy: 0.5877 - val_loss: 0.6925 - val_accuracy: 0.8652\n",
      "Epoch 122/1000\n",
      "41/43 [===========================>..] - ETA: 0s - loss: 1.1731 - accuracy: 0.5949\n",
      "Epoch 122: saving model to model/keypoint_classifier\\keypoint_classifier.hdf5\n",
      "43/43 [==============================] - 0s 5ms/step - loss: 1.1755 - accuracy: 0.5943 - val_loss: 0.6838 - val_accuracy: 0.8924\n",
      "Epoch 123/1000\n",
      "30/43 [===================>..........] - ETA: 0s - loss: 1.1877 - accuracy: 0.5935\n",
      "Epoch 123: saving model to model/keypoint_classifier\\keypoint_classifier.hdf5\n",
      "43/43 [==============================] - 0s 6ms/step - loss: 1.1920 - accuracy: 0.5932 - val_loss: 0.7009 - val_accuracy: 0.8824\n",
      "Epoch 124/1000\n",
      "39/43 [==========================>...] - ETA: 0s - loss: 1.1759 - accuracy: 0.5845\n",
      "Epoch 124: saving model to model/keypoint_classifier\\keypoint_classifier.hdf5\n",
      "43/43 [==============================] - 0s 5ms/step - loss: 1.1831 - accuracy: 0.5818 - val_loss: 0.6747 - val_accuracy: 0.8896\n",
      "Epoch 125/1000\n",
      "39/43 [==========================>...] - ETA: 0s - loss: 1.1804 - accuracy: 0.5863\n",
      "Epoch 125: saving model to model/keypoint_classifier\\keypoint_classifier.hdf5\n",
      "43/43 [==============================] - 0s 5ms/step - loss: 1.1803 - accuracy: 0.5853 - val_loss: 0.6903 - val_accuracy: 0.8747\n",
      "Epoch 126/1000\n",
      "38/43 [=========================>....] - ETA: 0s - loss: 1.1699 - accuracy: 0.5870\n",
      "Epoch 126: saving model to model/keypoint_classifier\\keypoint_classifier.hdf5\n",
      "43/43 [==============================] - 0s 5ms/step - loss: 1.1757 - accuracy: 0.5877 - val_loss: 0.6812 - val_accuracy: 0.9085\n",
      "Epoch 127/1000\n",
      "40/43 [==========================>...] - ETA: 0s - loss: 1.1532 - accuracy: 0.5928\n",
      "Epoch 127: saving model to model/keypoint_classifier\\keypoint_classifier.hdf5\n",
      "43/43 [==============================] - 0s 5ms/step - loss: 1.1591 - accuracy: 0.5906 - val_loss: 0.6844 - val_accuracy: 0.8791\n",
      "Epoch 128/1000\n",
      "40/43 [==========================>...] - ETA: 0s - loss: 1.1869 - accuracy: 0.5799\n",
      "Epoch 128: saving model to model/keypoint_classifier\\keypoint_classifier.hdf5\n",
      "43/43 [==============================] - 0s 5ms/step - loss: 1.1854 - accuracy: 0.5819 - val_loss: 0.6676 - val_accuracy: 0.8852\n",
      "Epoch 129/1000\n",
      "38/43 [=========================>....] - ETA: 0s - loss: 1.1830 - accuracy: 0.5925\n",
      "Epoch 129: saving model to model/keypoint_classifier\\keypoint_classifier.hdf5\n",
      "43/43 [==============================] - 0s 5ms/step - loss: 1.1817 - accuracy: 0.5934 - val_loss: 0.6938 - val_accuracy: 0.8674\n",
      "Epoch 130/1000\n",
      "30/43 [===================>..........] - ETA: 0s - loss: 1.1551 - accuracy: 0.6021\n",
      "Epoch 130: saving model to model/keypoint_classifier\\keypoint_classifier.hdf5\n",
      "43/43 [==============================] - 0s 6ms/step - loss: 1.1490 - accuracy: 0.6016 - val_loss: 0.6813 - val_accuracy: 0.8763\n",
      "Epoch 131/1000\n",
      "40/43 [==========================>...] - ETA: 0s - loss: 1.1565 - accuracy: 0.5963\n",
      "Epoch 131: saving model to model/keypoint_classifier\\keypoint_classifier.hdf5\n",
      "43/43 [==============================] - 0s 5ms/step - loss: 1.1556 - accuracy: 0.5967 - val_loss: 0.6767 - val_accuracy: 0.9113\n",
      "Epoch 132/1000\n",
      "41/43 [===========================>..] - ETA: 0s - loss: 1.1623 - accuracy: 0.5976\n",
      "Epoch 132: saving model to model/keypoint_classifier\\keypoint_classifier.hdf5\n",
      "43/43 [==============================] - 0s 5ms/step - loss: 1.1608 - accuracy: 0.5984 - val_loss: 0.6847 - val_accuracy: 0.8719\n",
      "Epoch 133/1000\n",
      "39/43 [==========================>...] - ETA: 0s - loss: 1.1666 - accuracy: 0.5946\n",
      "Epoch 133: saving model to model/keypoint_classifier\\keypoint_classifier.hdf5\n",
      "43/43 [==============================] - 0s 5ms/step - loss: 1.1681 - accuracy: 0.5954 - val_loss: 0.6776 - val_accuracy: 0.8902\n",
      "Epoch 134/1000\n",
      "39/43 [==========================>...] - ETA: 0s - loss: 1.1548 - accuracy: 0.5992\n",
      "Epoch 134: saving model to model/keypoint_classifier\\keypoint_classifier.hdf5\n",
      "43/43 [==============================] - 0s 5ms/step - loss: 1.1505 - accuracy: 0.5999 - val_loss: 0.6721 - val_accuracy: 0.8702\n",
      "Epoch 135/1000\n",
      "41/43 [===========================>..] - ETA: 0s - loss: 1.1512 - accuracy: 0.5998\n",
      "Epoch 135: saving model to model/keypoint_classifier\\keypoint_classifier.hdf5\n",
      "43/43 [==============================] - 0s 5ms/step - loss: 1.1521 - accuracy: 0.5999 - val_loss: 0.6747 - val_accuracy: 0.8785\n",
      "Epoch 136/1000\n",
      "39/43 [==========================>...] - ETA: 0s - loss: 1.1836 - accuracy: 0.5931\n",
      "Epoch 136: saving model to model/keypoint_classifier\\keypoint_classifier.hdf5\n",
      "43/43 [==============================] - 0s 6ms/step - loss: 1.1824 - accuracy: 0.5942 - val_loss: 0.6901 - val_accuracy: 0.8957\n",
      "Epoch 137/1000\n",
      "37/43 [========================>.....] - ETA: 0s - loss: 1.1802 - accuracy: 0.5861\n",
      "Epoch 137: saving model to model/keypoint_classifier\\keypoint_classifier.hdf5\n",
      "43/43 [==============================] - 0s 5ms/step - loss: 1.1741 - accuracy: 0.5892 - val_loss: 0.6730 - val_accuracy: 0.8957\n",
      "Epoch 138/1000\n",
      "38/43 [=========================>....] - ETA: 0s - loss: 1.1428 - accuracy: 0.6034\n",
      "Epoch 138: saving model to model/keypoint_classifier\\keypoint_classifier.hdf5\n",
      "43/43 [==============================] - 0s 5ms/step - loss: 1.1450 - accuracy: 0.6028 - val_loss: 0.6711 - val_accuracy: 0.8952\n",
      "Epoch 139/1000\n",
      "41/43 [===========================>..] - ETA: 0s - loss: 1.1576 - accuracy: 0.6018\n",
      "Epoch 139: saving model to model/keypoint_classifier\\keypoint_classifier.hdf5\n",
      "43/43 [==============================] - 0s 5ms/step - loss: 1.1522 - accuracy: 0.6034 - val_loss: 0.6715 - val_accuracy: 0.8758\n",
      "Epoch 140/1000\n",
      "38/43 [=========================>....] - ETA: 0s - loss: 1.1331 - accuracy: 0.6086\n",
      "Epoch 140: saving model to model/keypoint_classifier\\keypoint_classifier.hdf5\n",
      "43/43 [==============================] - 0s 5ms/step - loss: 1.1330 - accuracy: 0.6090 - val_loss: 0.6689 - val_accuracy: 0.8852\n",
      "Epoch 141/1000\n",
      "36/43 [========================>.....] - ETA: 0s - loss: 1.1446 - accuracy: 0.6083\n",
      "Epoch 141: saving model to model/keypoint_classifier\\keypoint_classifier.hdf5\n",
      "43/43 [==============================] - 0s 6ms/step - loss: 1.1550 - accuracy: 0.6034 - val_loss: 0.6713 - val_accuracy: 0.8918\n",
      "Epoch 142/1000\n",
      "32/43 [=====================>........] - ETA: 0s - loss: 1.1466 - accuracy: 0.5994\n",
      "Epoch 142: saving model to model/keypoint_classifier\\keypoint_classifier.hdf5\n",
      "43/43 [==============================] - 0s 6ms/step - loss: 1.1466 - accuracy: 0.6036 - val_loss: 0.6783 - val_accuracy: 0.8813\n",
      "Epoch 143/1000\n",
      "35/43 [=======================>......] - ETA: 0s - loss: 1.1508 - accuracy: 0.5973\n",
      "Epoch 143: saving model to model/keypoint_classifier\\keypoint_classifier.hdf5\n",
      "43/43 [==============================] - 0s 7ms/step - loss: 1.1515 - accuracy: 0.5962 - val_loss: 0.6680 - val_accuracy: 0.8719\n",
      "Epoch 144/1000\n",
      "37/43 [========================>.....] - ETA: 0s - loss: 1.1576 - accuracy: 0.6014\n",
      "Epoch 144: saving model to model/keypoint_classifier\\keypoint_classifier.hdf5\n",
      "43/43 [==============================] - 0s 5ms/step - loss: 1.1592 - accuracy: 0.5995 - val_loss: 0.6749 - val_accuracy: 0.8536\n",
      "Epoch 145/1000\n",
      "35/43 [=======================>......] - ETA: 0s - loss: 1.1404 - accuracy: 0.6056\n",
      "Epoch 145: saving model to model/keypoint_classifier\\keypoint_classifier.hdf5\n",
      "43/43 [==============================] - 0s 5ms/step - loss: 1.1410 - accuracy: 0.6067 - val_loss: 0.6665 - val_accuracy: 0.8819\n",
      "Epoch 146/1000\n",
      "38/43 [=========================>....] - ETA: 0s - loss: 1.1504 - accuracy: 0.6003\n",
      "Epoch 146: saving model to model/keypoint_classifier\\keypoint_classifier.hdf5\n",
      "43/43 [==============================] - 0s 6ms/step - loss: 1.1476 - accuracy: 0.6003 - val_loss: 0.6709 - val_accuracy: 0.8846\n",
      "Epoch 147/1000\n",
      "37/43 [========================>.....] - ETA: 0s - loss: 1.1391 - accuracy: 0.6071\n",
      "Epoch 147: saving model to model/keypoint_classifier\\keypoint_classifier.hdf5\n",
      "43/43 [==============================] - 0s 6ms/step - loss: 1.1469 - accuracy: 0.6047 - val_loss: 0.6686 - val_accuracy: 0.8796\n",
      "Epoch 148/1000\n",
      "29/43 [===================>..........] - ETA: 0s - loss: 1.1513 - accuracy: 0.6018\n",
      "Epoch 148: saving model to model/keypoint_classifier\\keypoint_classifier.hdf5\n",
      "43/43 [==============================] - 0s 6ms/step - loss: 1.1532 - accuracy: 0.6053 - val_loss: 0.6711 - val_accuracy: 0.8669\n",
      "Epoch 149/1000\n",
      "42/43 [============================>.] - ETA: 0s - loss: 1.1404 - accuracy: 0.6010\n",
      "Epoch 149: saving model to model/keypoint_classifier\\keypoint_classifier.hdf5\n",
      "43/43 [==============================] - 0s 6ms/step - loss: 1.1381 - accuracy: 0.6021 - val_loss: 0.6786 - val_accuracy: 0.8663\n",
      "Epoch 150/1000\n",
      "38/43 [=========================>....] - ETA: 0s - loss: 1.1405 - accuracy: 0.6040\n",
      "Epoch 150: saving model to model/keypoint_classifier\\keypoint_classifier.hdf5\n",
      "43/43 [==============================] - 0s 5ms/step - loss: 1.1402 - accuracy: 0.6040 - val_loss: 0.6470 - val_accuracy: 0.8946\n",
      "Epoch 151/1000\n",
      "38/43 [=========================>....] - ETA: 0s - loss: 1.1372 - accuracy: 0.6026\n",
      "Epoch 151: saving model to model/keypoint_classifier\\keypoint_classifier.hdf5\n",
      "43/43 [==============================] - 0s 5ms/step - loss: 1.1343 - accuracy: 0.6023 - val_loss: 0.6756 - val_accuracy: 0.8713\n",
      "Epoch 152/1000\n",
      "34/43 [======================>.......] - ETA: 0s - loss: 1.1537 - accuracy: 0.6036\n",
      "Epoch 152: saving model to model/keypoint_classifier\\keypoint_classifier.hdf5\n",
      "43/43 [==============================] - 0s 6ms/step - loss: 1.1504 - accuracy: 0.6028 - val_loss: 0.6780 - val_accuracy: 0.8713\n",
      "Epoch 153/1000\n",
      "37/43 [========================>.....] - ETA: 0s - loss: 1.1506 - accuracy: 0.5973\n",
      "Epoch 153: saving model to model/keypoint_classifier\\keypoint_classifier.hdf5\n",
      "43/43 [==============================] - 0s 5ms/step - loss: 1.1515 - accuracy: 0.5973 - val_loss: 0.6793 - val_accuracy: 0.8597\n",
      "Epoch 154/1000\n",
      "40/43 [==========================>...] - ETA: 0s - loss: 1.1520 - accuracy: 0.6002\n",
      "Epoch 154: saving model to model/keypoint_classifier\\keypoint_classifier.hdf5\n",
      "43/43 [==============================] - 0s 5ms/step - loss: 1.1500 - accuracy: 0.6001 - val_loss: 0.6626 - val_accuracy: 0.8924\n",
      "Epoch 155/1000\n",
      "37/43 [========================>.....] - ETA: 0s - loss: 1.1437 - accuracy: 0.5921\n",
      "Epoch 155: saving model to model/keypoint_classifier\\keypoint_classifier.hdf5\n",
      "43/43 [==============================] - 0s 5ms/step - loss: 1.1499 - accuracy: 0.5908 - val_loss: 0.6912 - val_accuracy: 0.8314\n",
      "Epoch 156/1000\n",
      "41/43 [===========================>..] - ETA: 0s - loss: 1.1532 - accuracy: 0.5957\n",
      "Epoch 156: saving model to model/keypoint_classifier\\keypoint_classifier.hdf5\n",
      "43/43 [==============================] - 0s 7ms/step - loss: 1.1513 - accuracy: 0.5958 - val_loss: 0.6814 - val_accuracy: 0.8636\n",
      "Epoch 157/1000\n",
      "41/43 [===========================>..] - ETA: 0s - loss: 1.1487 - accuracy: 0.5987\n",
      "Epoch 157: saving model to model/keypoint_classifier\\keypoint_classifier.hdf5\n",
      "43/43 [==============================] - 0s 5ms/step - loss: 1.1500 - accuracy: 0.5990 - val_loss: 0.6988 - val_accuracy: 0.8225\n",
      "Epoch 158/1000\n",
      "37/43 [========================>.....] - ETA: 0s - loss: 1.1248 - accuracy: 0.6115\n",
      "Epoch 158: saving model to model/keypoint_classifier\\keypoint_classifier.hdf5\n",
      "43/43 [==============================] - 0s 6ms/step - loss: 1.1182 - accuracy: 0.6162 - val_loss: 0.6598 - val_accuracy: 0.8580\n",
      "Epoch 159/1000\n",
      "38/43 [=========================>....] - ETA: 0s - loss: 1.1340 - accuracy: 0.6118\n",
      "Epoch 159: saving model to model/keypoint_classifier\\keypoint_classifier.hdf5\n",
      "43/43 [==============================] - 0s 5ms/step - loss: 1.1347 - accuracy: 0.6095 - val_loss: 0.6441 - val_accuracy: 0.8791\n",
      "Epoch 160/1000\n",
      "41/43 [===========================>..] - ETA: 0s - loss: 1.1343 - accuracy: 0.6029\n",
      "Epoch 160: saving model to model/keypoint_classifier\\keypoint_classifier.hdf5\n",
      "43/43 [==============================] - 0s 5ms/step - loss: 1.1339 - accuracy: 0.6028 - val_loss: 0.6592 - val_accuracy: 0.8580\n",
      "Epoch 161/1000\n",
      "35/43 [=======================>......] - ETA: 0s - loss: 1.1293 - accuracy: 0.6054\n",
      "Epoch 161: saving model to model/keypoint_classifier\\keypoint_classifier.hdf5\n",
      "43/43 [==============================] - 0s 5ms/step - loss: 1.1289 - accuracy: 0.6062 - val_loss: 0.6748 - val_accuracy: 0.8458\n",
      "Epoch 162/1000\n",
      "29/43 [===================>..........] - ETA: 0s - loss: 1.1309 - accuracy: 0.6161\n",
      "Epoch 162: saving model to model/keypoint_classifier\\keypoint_classifier.hdf5\n",
      "43/43 [==============================] - 0s 6ms/step - loss: 1.1418 - accuracy: 0.6065 - val_loss: 0.6382 - val_accuracy: 0.8946\n",
      "Epoch 163/1000\n",
      "39/43 [==========================>...] - ETA: 0s - loss: 1.1211 - accuracy: 0.6140\n",
      "Epoch 163: saving model to model/keypoint_classifier\\keypoint_classifier.hdf5\n",
      "43/43 [==============================] - 0s 5ms/step - loss: 1.1238 - accuracy: 0.6121 - val_loss: 0.6531 - val_accuracy: 0.8785\n",
      "Epoch 164/1000\n",
      "41/43 [===========================>..] - ETA: 0s - loss: 1.1344 - accuracy: 0.6000\n",
      "Epoch 164: saving model to model/keypoint_classifier\\keypoint_classifier.hdf5\n",
      "43/43 [==============================] - 0s 5ms/step - loss: 1.1323 - accuracy: 0.6017 - val_loss: 0.6593 - val_accuracy: 0.8636\n",
      "Epoch 165/1000\n",
      "41/43 [===========================>..] - ETA: 0s - loss: 1.1332 - accuracy: 0.6014\n",
      "Epoch 165: saving model to model/keypoint_classifier\\keypoint_classifier.hdf5\n",
      "43/43 [==============================] - 0s 5ms/step - loss: 1.1337 - accuracy: 0.6019 - val_loss: 0.6756 - val_accuracy: 0.8552\n",
      "Epoch 166/1000\n",
      "39/43 [==========================>...] - ETA: 0s - loss: 1.1325 - accuracy: 0.6038\n",
      "Epoch 166: saving model to model/keypoint_classifier\\keypoint_classifier.hdf5\n",
      "43/43 [==============================] - 0s 5ms/step - loss: 1.1322 - accuracy: 0.6036 - val_loss: 0.6625 - val_accuracy: 0.8453\n",
      "Epoch 167/1000\n",
      "39/43 [==========================>...] - ETA: 0s - loss: 1.1288 - accuracy: 0.6052\n",
      "Epoch 167: saving model to model/keypoint_classifier\\keypoint_classifier.hdf5\n",
      "43/43 [==============================] - 0s 5ms/step - loss: 1.1252 - accuracy: 0.6041 - val_loss: 0.6575 - val_accuracy: 0.8758\n",
      "Epoch 168/1000\n",
      "38/43 [=========================>....] - ETA: 0s - loss: 1.1161 - accuracy: 0.6081\n",
      "Epoch 168: saving model to model/keypoint_classifier\\keypoint_classifier.hdf5\n",
      "43/43 [==============================] - 0s 5ms/step - loss: 1.1196 - accuracy: 0.6067 - val_loss: 0.6551 - val_accuracy: 0.8547\n",
      "Epoch 169/1000\n",
      "40/43 [==========================>...] - ETA: 0s - loss: 1.1117 - accuracy: 0.6115\n",
      "Epoch 169: saving model to model/keypoint_classifier\\keypoint_classifier.hdf5\n",
      "43/43 [==============================] - 0s 6ms/step - loss: 1.1152 - accuracy: 0.6112 - val_loss: 0.6482 - val_accuracy: 0.8602\n",
      "Epoch 170/1000\n",
      "40/43 [==========================>...] - ETA: 0s - loss: 1.1219 - accuracy: 0.6117\n",
      "Epoch 170: saving model to model/keypoint_classifier\\keypoint_classifier.hdf5\n",
      "43/43 [==============================] - 0s 5ms/step - loss: 1.1216 - accuracy: 0.6127 - val_loss: 0.6441 - val_accuracy: 0.8802\n",
      "Epoch 171/1000\n",
      "40/43 [==========================>...] - ETA: 0s - loss: 1.0997 - accuracy: 0.6217\n",
      "Epoch 171: saving model to model/keypoint_classifier\\keypoint_classifier.hdf5\n",
      "43/43 [==============================] - 0s 5ms/step - loss: 1.0965 - accuracy: 0.6234 - val_loss: 0.6479 - val_accuracy: 0.8453\n",
      "Epoch 172/1000\n",
      "40/43 [==========================>...] - ETA: 0s - loss: 1.1198 - accuracy: 0.6113\n",
      "Epoch 172: saving model to model/keypoint_classifier\\keypoint_classifier.hdf5\n",
      "43/43 [==============================] - 0s 5ms/step - loss: 1.1130 - accuracy: 0.6130 - val_loss: 0.6667 - val_accuracy: 0.8114\n",
      "Epoch 173/1000\n",
      "41/43 [===========================>..] - ETA: 0s - loss: 1.1185 - accuracy: 0.6103\n",
      "Epoch 173: saving model to model/keypoint_classifier\\keypoint_classifier.hdf5\n",
      "43/43 [==============================] - 0s 5ms/step - loss: 1.1149 - accuracy: 0.6104 - val_loss: 0.6856 - val_accuracy: 0.8148\n",
      "Epoch 174/1000\n",
      "39/43 [==========================>...] - ETA: 0s - loss: 1.1325 - accuracy: 0.6144\n",
      "Epoch 174: saving model to model/keypoint_classifier\\keypoint_classifier.hdf5\n",
      "43/43 [==============================] - 0s 5ms/step - loss: 1.1305 - accuracy: 0.6160 - val_loss: 0.6706 - val_accuracy: 0.8303\n",
      "Epoch 175/1000\n",
      "40/43 [==========================>...] - ETA: 0s - loss: 1.1076 - accuracy: 0.6127\n",
      "Epoch 175: saving model to model/keypoint_classifier\\keypoint_classifier.hdf5\n",
      "43/43 [==============================] - 0s 6ms/step - loss: 1.1083 - accuracy: 0.6127 - val_loss: 0.6565 - val_accuracy: 0.8514\n",
      "Epoch 176/1000\n",
      "41/43 [===========================>..] - ETA: 0s - loss: 1.1017 - accuracy: 0.6218\n",
      "Epoch 176: saving model to model/keypoint_classifier\\keypoint_classifier.hdf5\n",
      "43/43 [==============================] - 0s 5ms/step - loss: 1.0994 - accuracy: 0.6228 - val_loss: 0.6307 - val_accuracy: 0.8830\n",
      "Epoch 177/1000\n",
      "40/43 [==========================>...] - ETA: 0s - loss: 1.0991 - accuracy: 0.6250\n",
      "Epoch 177: saving model to model/keypoint_classifier\\keypoint_classifier.hdf5\n",
      "43/43 [==============================] - 0s 5ms/step - loss: 1.1024 - accuracy: 0.6243 - val_loss: 0.6657 - val_accuracy: 0.8336\n",
      "Epoch 178/1000\n",
      "40/43 [==========================>...] - ETA: 0s - loss: 1.0949 - accuracy: 0.6172\n",
      "Epoch 178: saving model to model/keypoint_classifier\\keypoint_classifier.hdf5\n",
      "43/43 [==============================] - 0s 5ms/step - loss: 1.0983 - accuracy: 0.6152 - val_loss: 0.6642 - val_accuracy: 0.8281\n",
      "Epoch 179/1000\n",
      "40/43 [==========================>...] - ETA: 0s - loss: 1.1091 - accuracy: 0.6187\n",
      "Epoch 179: saving model to model/keypoint_classifier\\keypoint_classifier.hdf5\n",
      "43/43 [==============================] - 0s 5ms/step - loss: 1.1124 - accuracy: 0.6201 - val_loss: 0.6500 - val_accuracy: 0.8569\n",
      "Epoch 180/1000\n",
      "32/43 [=====================>........] - ETA: 0s - loss: 1.1159 - accuracy: 0.6084\n",
      "Epoch 180: saving model to model/keypoint_classifier\\keypoint_classifier.hdf5\n",
      "43/43 [==============================] - 0s 8ms/step - loss: 1.1100 - accuracy: 0.6147 - val_loss: 0.6675 - val_accuracy: 0.8175\n",
      "Epoch 181/1000\n",
      "34/43 [======================>.......] - ETA: 0s - loss: 1.1071 - accuracy: 0.6140\n",
      "Epoch 181: saving model to model/keypoint_classifier\\keypoint_classifier.hdf5\n",
      "43/43 [==============================] - 0s 8ms/step - loss: 1.1201 - accuracy: 0.6102 - val_loss: 0.6572 - val_accuracy: 0.8502\n",
      "Epoch 182/1000\n",
      "30/43 [===================>..........] - ETA: 0s - loss: 1.1142 - accuracy: 0.6096\n",
      "Epoch 182: saving model to model/keypoint_classifier\\keypoint_classifier.hdf5\n",
      "43/43 [==============================] - 0s 6ms/step - loss: 1.1193 - accuracy: 0.6115 - val_loss: 0.6493 - val_accuracy: 0.8536\n",
      "Epoch 183/1000\n",
      "31/43 [====================>.........] - ETA: 0s - loss: 1.1180 - accuracy: 0.6159\n",
      "Epoch 183: saving model to model/keypoint_classifier\\keypoint_classifier.hdf5\n",
      "43/43 [==============================] - 0s 6ms/step - loss: 1.1092 - accuracy: 0.6154 - val_loss: 0.6558 - val_accuracy: 0.8480\n",
      "Epoch 184/1000\n",
      "33/43 [======================>.......] - ETA: 0s - loss: 1.1503 - accuracy: 0.6023\n",
      "Epoch 184: saving model to model/keypoint_classifier\\keypoint_classifier.hdf5\n",
      "43/43 [==============================] - 0s 6ms/step - loss: 1.1358 - accuracy: 0.6067 - val_loss: 0.6420 - val_accuracy: 0.8735\n",
      "Epoch 185/1000\n",
      "43/43 [==============================] - ETA: 0s - loss: 1.1088 - accuracy: 0.6215\n",
      "Epoch 185: saving model to model/keypoint_classifier\\keypoint_classifier.hdf5\n",
      "43/43 [==============================] - 0s 8ms/step - loss: 1.1088 - accuracy: 0.6215 - val_loss: 0.6783 - val_accuracy: 0.8325\n",
      "Epoch 186/1000\n",
      "32/43 [=====================>........] - ETA: 0s - loss: 1.1121 - accuracy: 0.6267\n",
      "Epoch 186: saving model to model/keypoint_classifier\\keypoint_classifier.hdf5\n",
      "43/43 [==============================] - 0s 6ms/step - loss: 1.1102 - accuracy: 0.6223 - val_loss: 0.6290 - val_accuracy: 0.8874\n",
      "Epoch 187/1000\n",
      "31/43 [====================>.........] - ETA: 0s - loss: 1.1015 - accuracy: 0.6142\n",
      "Epoch 187: saving model to model/keypoint_classifier\\keypoint_classifier.hdf5\n",
      "43/43 [==============================] - 0s 7ms/step - loss: 1.1085 - accuracy: 0.6102 - val_loss: 0.6493 - val_accuracy: 0.8652\n",
      "Epoch 188/1000\n",
      "32/43 [=====================>........] - ETA: 0s - loss: 1.1058 - accuracy: 0.6162\n",
      "Epoch 188: saving model to model/keypoint_classifier\\keypoint_classifier.hdf5\n",
      "43/43 [==============================] - 0s 6ms/step - loss: 1.0996 - accuracy: 0.6186 - val_loss: 0.6642 - val_accuracy: 0.8319\n",
      "Epoch 189/1000\n",
      "33/43 [======================>.......] - ETA: 0s - loss: 1.1068 - accuracy: 0.6096\n",
      "Epoch 189: saving model to model/keypoint_classifier\\keypoint_classifier.hdf5\n",
      "43/43 [==============================] - 0s 6ms/step - loss: 1.1034 - accuracy: 0.6101 - val_loss: 0.6745 - val_accuracy: 0.8031\n",
      "Epoch 190/1000\n",
      "31/43 [====================>.........] - ETA: 0s - loss: 1.0988 - accuracy: 0.6179\n",
      "Epoch 190: saving model to model/keypoint_classifier\\keypoint_classifier.hdf5\n",
      "43/43 [==============================] - 0s 6ms/step - loss: 1.1069 - accuracy: 0.6156 - val_loss: 0.6573 - val_accuracy: 0.8258\n",
      "Epoch 191/1000\n",
      "34/43 [======================>.......] - ETA: 0s - loss: 1.1017 - accuracy: 0.6151\n",
      "Epoch 191: saving model to model/keypoint_classifier\\keypoint_classifier.hdf5\n",
      "43/43 [==============================] - 0s 7ms/step - loss: 1.0956 - accuracy: 0.6164 - val_loss: 0.6487 - val_accuracy: 0.8630\n",
      "Epoch 192/1000\n",
      "30/43 [===================>..........] - ETA: 0s - loss: 1.0788 - accuracy: 0.6242\n",
      "Epoch 192: saving model to model/keypoint_classifier\\keypoint_classifier.hdf5\n",
      "43/43 [==============================] - 0s 6ms/step - loss: 1.0813 - accuracy: 0.6228 - val_loss: 0.6666 - val_accuracy: 0.8303\n",
      "Epoch 193/1000\n",
      "31/43 [====================>.........] - ETA: 0s - loss: 1.0931 - accuracy: 0.6169\n",
      "Epoch 193: saving model to model/keypoint_classifier\\keypoint_classifier.hdf5\n",
      "43/43 [==============================] - 0s 6ms/step - loss: 1.0894 - accuracy: 0.6191 - val_loss: 0.6309 - val_accuracy: 0.8763\n",
      "Epoch 194/1000\n",
      "36/43 [========================>.....] - ETA: 0s - loss: 1.0920 - accuracy: 0.6157\n",
      "Epoch 194: saving model to model/keypoint_classifier\\keypoint_classifier.hdf5\n",
      "43/43 [==============================] - 0s 5ms/step - loss: 1.0875 - accuracy: 0.6176 - val_loss: 0.6488 - val_accuracy: 0.8464\n",
      "Epoch 195/1000\n",
      "37/43 [========================>.....] - ETA: 0s - loss: 1.0925 - accuracy: 0.6218\n",
      "Epoch 195: saving model to model/keypoint_classifier\\keypoint_classifier.hdf5\n",
      "43/43 [==============================] - 0s 6ms/step - loss: 1.1006 - accuracy: 0.6173 - val_loss: 0.6709 - val_accuracy: 0.8048\n",
      "Epoch 196/1000\n",
      "39/43 [==========================>...] - ETA: 0s - loss: 1.0749 - accuracy: 0.6198\n",
      "Epoch 196: saving model to model/keypoint_classifier\\keypoint_classifier.hdf5\n",
      "43/43 [==============================] - 0s 5ms/step - loss: 1.0758 - accuracy: 0.6199 - val_loss: 0.6475 - val_accuracy: 0.8347\n",
      "Epoch 197/1000\n",
      "34/43 [======================>.......] - ETA: 0s - loss: 1.0869 - accuracy: 0.6241\n",
      "Epoch 197: saving model to model/keypoint_classifier\\keypoint_classifier.hdf5\n",
      "43/43 [==============================] - 0s 6ms/step - loss: 1.0854 - accuracy: 0.6252 - val_loss: 0.6505 - val_accuracy: 0.8353\n",
      "Epoch 198/1000\n",
      "41/43 [===========================>..] - ETA: 0s - loss: 1.0941 - accuracy: 0.6166\n",
      "Epoch 198: saving model to model/keypoint_classifier\\keypoint_classifier.hdf5\n",
      "43/43 [==============================] - 0s 6ms/step - loss: 1.0937 - accuracy: 0.6173 - val_loss: 0.6530 - val_accuracy: 0.8292\n",
      "Epoch 199/1000\n",
      "39/43 [==========================>...] - ETA: 0s - loss: 1.1087 - accuracy: 0.6210\n",
      "Epoch 199: saving model to model/keypoint_classifier\\keypoint_classifier.hdf5\n",
      "43/43 [==============================] - 0s 5ms/step - loss: 1.1041 - accuracy: 0.6215 - val_loss: 0.6543 - val_accuracy: 0.8253\n",
      "Epoch 200/1000\n",
      "37/43 [========================>.....] - ETA: 0s - loss: 1.1080 - accuracy: 0.6185\n",
      "Epoch 200: saving model to model/keypoint_classifier\\keypoint_classifier.hdf5\n",
      "43/43 [==============================] - 0s 6ms/step - loss: 1.1016 - accuracy: 0.6206 - val_loss: 0.6603 - val_accuracy: 0.8275\n",
      "Epoch 201/1000\n",
      "36/43 [========================>.....] - ETA: 0s - loss: 1.0837 - accuracy: 0.6291\n",
      "Epoch 201: saving model to model/keypoint_classifier\\keypoint_classifier.hdf5\n",
      "43/43 [==============================] - 0s 5ms/step - loss: 1.0744 - accuracy: 0.6349 - val_loss: 0.6690 - val_accuracy: 0.8148\n",
      "Epoch 202/1000\n",
      "41/43 [===========================>..] - ETA: 0s - loss: 1.1065 - accuracy: 0.6193\n",
      "Epoch 202: saving model to model/keypoint_classifier\\keypoint_classifier.hdf5\n",
      "43/43 [==============================] - 0s 5ms/step - loss: 1.1023 - accuracy: 0.6206 - val_loss: 0.6798 - val_accuracy: 0.8048\n",
      "Epoch 203/1000\n",
      "39/43 [==========================>...] - ETA: 0s - loss: 1.0898 - accuracy: 0.6264\n",
      "Epoch 203: saving model to model/keypoint_classifier\\keypoint_classifier.hdf5\n",
      "43/43 [==============================] - 0s 5ms/step - loss: 1.0903 - accuracy: 0.6256 - val_loss: 0.6526 - val_accuracy: 0.7931\n",
      "Epoch 204/1000\n",
      "39/43 [==========================>...] - ETA: 0s - loss: 1.0985 - accuracy: 0.6066\n",
      "Epoch 204: saving model to model/keypoint_classifier\\keypoint_classifier.hdf5\n",
      "43/43 [==============================] - 0s 5ms/step - loss: 1.0946 - accuracy: 0.6078 - val_loss: 0.6639 - val_accuracy: 0.7948\n",
      "Epoch 205/1000\n",
      "40/43 [==========================>...] - ETA: 0s - loss: 1.0655 - accuracy: 0.6350\n",
      "Epoch 205: saving model to model/keypoint_classifier\\keypoint_classifier.hdf5\n",
      "43/43 [==============================] - 0s 5ms/step - loss: 1.0655 - accuracy: 0.6347 - val_loss: 0.6302 - val_accuracy: 0.8175\n",
      "Epoch 206/1000\n",
      "39/43 [==========================>...] - ETA: 0s - loss: 1.0863 - accuracy: 0.6264\n",
      "Epoch 206: saving model to model/keypoint_classifier\\keypoint_classifier.hdf5\n",
      "43/43 [==============================] - 0s 5ms/step - loss: 1.0830 - accuracy: 0.6284 - val_loss: 0.6438 - val_accuracy: 0.8336\n",
      "Epoch 206: early stopping\n"
     ]
    },
    {
     "data": {
      "text/plain": [
       "<keras.src.callbacks.History at 0x24bd636a8c0>"
      ]
     },
     "execution_count": 11,
     "metadata": {},
     "output_type": "execute_result"
    }
   ],
   "source": [
    "model.fit(\n",
    "    X_train,\n",
    "    y_train,\n",
    "    epochs=1000,\n",
    "    batch_size=128,\n",
    "    validation_data=(X_test, y_test),\n",
    "    callbacks=[cp_callback, es_callback]\n",
    ")"
   ]
  },
  {
   "cell_type": "code",
   "execution_count": 12,
   "metadata": {
    "colab": {
     "base_uri": "https://localhost:8080/"
    },
    "id": "pxvb2Y299hE3",
    "outputId": "59eb3185-2e37-4b9e-bc9d-ab1b8ac29b7f"
   },
   "outputs": [
    {
     "name": "stdout",
     "output_type": "stream",
     "text": [
      "15/15 [==============================] - 0s 2ms/step - loss: 0.6438 - accuracy: 0.8336\n"
     ]
    }
   ],
   "source": [
    "# Model evaluation\n",
    "val_loss, val_acc = model.evaluate(X_test, y_test, batch_size=128)"
   ]
  },
  {
   "cell_type": "code",
   "execution_count": 13,
   "metadata": {
    "id": "RBkmDeUW9hE4"
   },
   "outputs": [],
   "source": [
    "# Loading the saved model\n",
    "model = tf.keras.models.load_model(model_save_path)"
   ]
  },
  {
   "cell_type": "code",
   "execution_count": 14,
   "metadata": {
    "colab": {
     "base_uri": "https://localhost:8080/"
    },
    "id": "tFz9Tb0I9hE4",
    "outputId": "1c3b3528-54ae-4ee2-ab04-77429211cbef"
   },
   "outputs": [
    {
     "name": "stdout",
     "output_type": "stream",
     "text": [
      "1/1 [==============================] - 0s 144ms/step\n",
      "[2.6349607e-01 3.9157844e-01 1.7382234e-07 1.3555605e-05 8.4086061e-02\n",
      " 2.7000044e-02 5.3312053e-04 1.9345768e-11 1.7514039e-03 1.0319372e-01\n",
      " 2.7392359e-04 1.7785897e-02 1.0837950e-05 8.9026571e-08 2.0747049e-05\n",
      " 8.9480821e-03 8.5387453e-02 3.4744220e-04 1.5572898e-02]\n",
      "1\n"
     ]
    }
   ],
   "source": [
    "# Inference test\n",
    "predict_result = model.predict(np.array([X_test[0]]))\n",
    "print(np.squeeze(predict_result))\n",
    "print(np.argmax(np.squeeze(predict_result)))"
   ]
  },
  {
   "cell_type": "markdown",
   "metadata": {
    "id": "S3U4yNWx9hE4"
   },
   "source": [
    "# Confusion matrix"
   ]
  },
  {
   "cell_type": "code",
   "execution_count": 15,
   "metadata": {
    "colab": {
     "base_uri": "https://localhost:8080/",
     "height": 582
    },
    "id": "AP1V6SCk9hE5",
    "outputId": "08e41a80-7a4a-4619-8125-ecc371368d19"
   },
   "outputs": [
    {
     "name": "stdout",
     "output_type": "stream",
     "text": [
      "57/57 [==============================] - 0s 2ms/step\n"
     ]
    },
    {
     "data": {
      "image/png": "[encoded data removed]",
      "text/plain": [
       "<Figure size 700x600 with 2 Axes>"
      ]
     },
     "metadata": {},
     "output_type": "display_data"
    },
    {
     "name": "stdout",
     "output_type": "stream",
     "text": [
      "Classification Report\n",
      "              precision    recall  f1-score   support\n",
      "\n",
      "           0       1.00      0.39      0.56        51\n",
      "           1       0.96      0.77      0.85        86\n",
      "           2       1.00      1.00      1.00        88\n",
      "           3       0.91      1.00      0.95       105\n",
      "           4       0.99      1.00      0.99        78\n",
      "           5       1.00      0.20      0.33       106\n",
      "           6       1.00      1.00      1.00        92\n",
      "           7       1.00      0.99      0.99        96\n",
      "           8       0.96      0.88      0.92        84\n",
      "           9       0.59      0.94      0.73       113\n",
      "          10       0.24      0.13      0.17        93\n",
      "          11       0.77      0.81      0.79       102\n",
      "          12       1.00      0.99      0.99        70\n",
      "          13       1.00      1.00      1.00       118\n",
      "          14       1.00      0.73      0.84       110\n",
      "          15       0.57      1.00      0.72       116\n",
      "          16       0.72      1.00      0.84       130\n",
      "          17       0.95      1.00      0.97       130\n",
      "          18       1.00      0.57      0.73        35\n",
      "\n",
      "    accuracy                           0.83      1803\n",
      "   macro avg       0.88      0.81      0.81      1803\n",
      "weighted avg       0.86      0.83      0.82      1803\n",
      "\n"
     ]
    }
   ],
   "source": [
    "import pandas as pd\n",
    "import seaborn as sns\n",
    "import matplotlib.pyplot as plt\n",
    "from sklearn.metrics import confusion_matrix, classification_report\n",
    "\n",
    "def print_confusion_matrix(y_true, y_pred, report=True):\n",
    "    labels = sorted(list(set(y_true)))\n",
    "    cmx_data = confusion_matrix(y_true, y_pred, labels=labels)\n",
    "    \n",
    "    df_cmx = pd.DataFrame(cmx_data, index=labels, columns=labels)\n",
    " \n",
    "    fig, ax = plt.subplots(figsize=(7, 6))\n",
    "    sns.heatmap(df_cmx, annot=True, fmt='g' ,square=False)\n",
    "    ax.set_ylim(len(set(y_true)), 0)\n",
    "    ax.set_xlabel('Predicted labels')\n",
    "    ax.set_ylabel('True labels')\n",
    "    ax.set_title('Confusion Matrix')\n",
    "    plt.show()\n",
    "    \n",
    "    if report:\n",
    "        print('Classification Report')\n",
    "        print(classification_report(y_test, y_pred))\n",
    "\n",
    "Y_pred = model.predict(X_test)\n",
    "y_pred = np.argmax(Y_pred, axis=1)\n",
    "\n",
    "print_confusion_matrix(y_test, y_pred)"
   ]
  },
  {
   "cell_type": "markdown",
   "metadata": {
    "id": "FNP6aqzc9hE5"
   },
   "source": [
    "# Convert to model for Tensorflow-Lite"
   ]
  },
  {
   "cell_type": "code",
   "execution_count": 16,
   "metadata": {
    "id": "ODjnYyld9hE6"
   },
   "outputs": [
    {
     "name": "stderr",
     "output_type": "stream",
     "text": [
      "c:\\Users\\user\\AppData\\Local\\Programs\\Python\\Python310\\lib\\site-packages\\keras\\src\\engine\\training.py:3079: UserWarning: You are saving your model as an HDF5 file via `model.save()`. This file format is considered legacy. We recommend using instead the native Keras format, e.g. `model.save('my_model.keras')`.\n",
      "  saving_api.save_model(\n"
     ]
    }
   ],
   "source": [
    "# Save as a model dedicated to inference\n",
    "model.save(model_save_path, include_optimizer=False)"
   ]
  },
  {
   "cell_type": "code",
   "execution_count": 17,
   "metadata": {
    "colab": {
     "base_uri": "https://localhost:8080/"
    },
    "id": "zRfuK8Y59hE6",
    "outputId": "a4ca585c-b5d5-4244-8291-8674063209bb"
   },
   "outputs": [
    {
     "name": "stdout",
     "output_type": "stream",
     "text": [
      "INFO:tensorflow:Assets written to: C:\\Users\\user\\AppData\\Local\\Temp\\tmppzvi9_pu\\assets\n"
     ]
    },
    {
     "name": "stderr",
     "output_type": "stream",
     "text": [
      "INFO:tensorflow:Assets written to: C:\\Users\\user\\AppData\\Local\\Temp\\tmppzvi9_pu\\assets\n"
     ]
    },
    {
     "data": {
      "text/plain": [
       "7204"
      ]
     },
     "execution_count": 17,
     "metadata": {},
     "output_type": "execute_result"
    }
   ],
   "source": [
    "# Transform model (quantization)\n",
    "\n",
    "converter = tf.lite.TFLiteConverter.from_keras_model(model)\n",
    "converter.optimizations = [tf.lite.Optimize.DEFAULT]\n",
    "tflite_quantized_model = converter.convert()\n",
    "\n",
    "open(tflite_save_path, 'wb').write(tflite_quantized_model)"
   ]
  },
  {
   "cell_type": "markdown",
   "metadata": {
    "id": "CHBPBXdx9hE6"
   },
   "source": [
    "# Inference test"
   ]
  },
  {
   "cell_type": "code",
   "execution_count": 18,
   "metadata": {
    "id": "mGAzLocO9hE7"
   },
   "outputs": [],
   "source": [
    "interpreter = tf.lite.Interpreter(model_path=tflite_save_path)\n",
    "interpreter.allocate_tensors()"
   ]
  },
  {
   "cell_type": "code",
   "execution_count": 19,
   "metadata": {
    "id": "oQuDK8YS9hE7"
   },
   "outputs": [],
   "source": [
    "# Get I / O tensor\n",
    "input_details = interpreter.get_input_details()\n",
    "output_details = interpreter.get_output_details()"
   ]
  },
  {
   "cell_type": "code",
   "execution_count": 20,
   "metadata": {
    "id": "2_ixAf_l9hE7"
   },
   "outputs": [],
   "source": [
    "interpreter.set_tensor(input_details[0]['index'], np.array([X_test[0]]))"
   ]
  },
  {
   "cell_type": "code",
   "execution_count": 21,
   "metadata": {
    "colab": {
     "base_uri": "https://localhost:8080/"
    },
    "id": "s4FoAnuc9hE7",
    "outputId": "91f18257-8d8b-4ef3-c558-e9b5f94fabbf",
    "scrolled": true
   },
   "outputs": [
    {
     "name": "stdout",
     "output_type": "stream",
     "text": [
      "CPU times: total: 0 ns\n",
      "Wall time: 998 µs\n"
     ]
    }
   ],
   "source": [
    "%%time\n",
    "# Inference implementation\n",
    "interpreter.invoke()\n",
    "tflite_results = interpreter.get_tensor(output_details[0]['index'])"
   ]
  },
  {
   "cell_type": "code",
   "execution_count": 22,
   "metadata": {
    "colab": {
     "base_uri": "https://localhost:8080/"
    },
    "id": "vONjp19J9hE8",
    "outputId": "77205e24-fd00-42c4-f7b6-e06e527c2cba"
   },
   "outputs": [
    {
     "name": "stdout",
     "output_type": "stream",
     "text": [
      "[2.63496101e-01 3.91578436e-01 1.73822002e-07 1.35556293e-05\n",
      " 8.40860978e-02 2.70000156e-02 5.33121056e-04 1.93457663e-11\n",
      " 1.75140460e-03 1.03193700e-01 2.73923331e-04 1.77858863e-02\n",
      " 1.08379272e-05 8.90264005e-08 2.07470457e-05 8.94807931e-03\n",
      " 8.53874758e-02 3.47442867e-04 1.55729065e-02]\n",
      "1\n"
     ]
    }
   ],
   "source": [
    "print(np.squeeze(tflite_results))\n",
    "print(np.argmax(np.squeeze(tflite_results)))"
   ]
  }
 ],
 "metadata": {
  "accelerator": "GPU",
  "colab": {
   "collapsed_sections": [],
   "name": "keypoint_classification_EN.ipynb",
   "provenance": [],
   "toc_visible": true
  },
  "kernelspec": {
   "display_name": "Python 3 (ipykernel)",
   "language": "python",
   "name": "python3"
  },
  "language_info": {
   "codemirror_mode": {
    "name": "ipython",
    "version": 3
   },
   "file_extension": ".py",
   "mimetype": "text/x-python",
   "name": "python",
   "nbconvert_exporter": "python",
   "pygments_lexer": "ipython3",
   "version": "3.10.2"
  }
 },
 "nbformat": 4,
 "nbformat_minor": 4
}
